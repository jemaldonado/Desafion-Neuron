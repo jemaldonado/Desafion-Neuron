{
  "nbformat": 4,
  "nbformat_minor": 0,
  "metadata": {
    "colab": {
      "name": "TIPS/GORJETA.ipynb",
      "provenance": [],
      "collapsed_sections": [],
      "toc_visible": true,
      "include_colab_link": true
    },
    "kernelspec": {
      "name": "python3",
      "display_name": "Python 3"
    }
  },
  "cells": [
    {
      "cell_type": "markdown",
      "metadata": {
        "id": "view-in-github",
        "colab_type": "text"
      },
      "source": [
        "<a href=\"https://colab.research.google.com/github/jemaldonado/Desafion-Neuron/blob/master/TIPS-GORJETA/TIPS_GORJETA.ipynb\" target=\"_parent\"><img src=\"https://colab.research.google.com/assets/colab-badge.svg\" alt=\"Open In Colab\"/></a>"
      ]
    },
    {
      "cell_type": "code",
      "metadata": {
        "id": "eLd3BOVShj-U"
      },
      "source": [
        "import pandas as pd\n",
        "import seaborn as sns\n",
        "import matplotlib.pyplot as plt\n",
        "import numpy as np\n",
        "import seaborn as sns"
      ],
      "execution_count": null,
      "outputs": []
    },
    {
      "cell_type": "code",
      "metadata": {
        "id": "JCQe2DSijDmo"
      },
      "source": [
        "df_tips = pd.read_excel('https://github.com/jemaldonado/Desafion-Neuron/blob/master/TIPS-GORJETA/tips.xlsx?raw=true')"
      ],
      "execution_count": null,
      "outputs": []
    },
    {
      "cell_type": "code",
      "metadata": {
        "id": "lJ4wJ4ask0cc",
        "outputId": "63381b23-ebde-4c88-c80d-0efb4717306d",
        "colab": {
          "base_uri": "https://localhost:8080/",
          "height": 419
        }
      },
      "source": [
        "df_tips"
      ],
      "execution_count": null,
      "outputs": [
        {
          "output_type": "execute_result",
          "data": {
            "text/html": [
              "<div>\n",
              "<style scoped>\n",
              "    .dataframe tbody tr th:only-of-type {\n",
              "        vertical-align: middle;\n",
              "    }\n",
              "\n",
              "    .dataframe tbody tr th {\n",
              "        vertical-align: top;\n",
              "    }\n",
              "\n",
              "    .dataframe thead th {\n",
              "        text-align: right;\n",
              "    }\n",
              "</style>\n",
              "<table border=\"1\" class=\"dataframe\">\n",
              "  <thead>\n",
              "    <tr style=\"text-align: right;\">\n",
              "      <th></th>\n",
              "      <th>total_bill</th>\n",
              "      <th>tip</th>\n",
              "      <th>sex</th>\n",
              "      <th>smoker</th>\n",
              "      <th>day</th>\n",
              "      <th>time</th>\n",
              "      <th>size_of_group</th>\n",
              "    </tr>\n",
              "  </thead>\n",
              "  <tbody>\n",
              "    <tr>\n",
              "      <th>0</th>\n",
              "      <td>16.99</td>\n",
              "      <td>1.01</td>\n",
              "      <td>Female</td>\n",
              "      <td>No</td>\n",
              "      <td>Sun</td>\n",
              "      <td>Dinner</td>\n",
              "      <td>2</td>\n",
              "    </tr>\n",
              "    <tr>\n",
              "      <th>1</th>\n",
              "      <td>10.34</td>\n",
              "      <td>1.66</td>\n",
              "      <td>Male</td>\n",
              "      <td>No</td>\n",
              "      <td>Sun</td>\n",
              "      <td>Dinner</td>\n",
              "      <td>3</td>\n",
              "    </tr>\n",
              "    <tr>\n",
              "      <th>2</th>\n",
              "      <td>21.01</td>\n",
              "      <td>3.50</td>\n",
              "      <td>Male</td>\n",
              "      <td>No</td>\n",
              "      <td>Sun</td>\n",
              "      <td>Dinner</td>\n",
              "      <td>3</td>\n",
              "    </tr>\n",
              "    <tr>\n",
              "      <th>3</th>\n",
              "      <td>23.68</td>\n",
              "      <td>3.31</td>\n",
              "      <td>Male</td>\n",
              "      <td>No</td>\n",
              "      <td>Sun</td>\n",
              "      <td>Dinner</td>\n",
              "      <td>2</td>\n",
              "    </tr>\n",
              "    <tr>\n",
              "      <th>4</th>\n",
              "      <td>24.59</td>\n",
              "      <td>3.61</td>\n",
              "      <td>Female</td>\n",
              "      <td>No</td>\n",
              "      <td>Sun</td>\n",
              "      <td>Dinner</td>\n",
              "      <td>4</td>\n",
              "    </tr>\n",
              "    <tr>\n",
              "      <th>...</th>\n",
              "      <td>...</td>\n",
              "      <td>...</td>\n",
              "      <td>...</td>\n",
              "      <td>...</td>\n",
              "      <td>...</td>\n",
              "      <td>...</td>\n",
              "      <td>...</td>\n",
              "    </tr>\n",
              "    <tr>\n",
              "      <th>239</th>\n",
              "      <td>29.03</td>\n",
              "      <td>5.92</td>\n",
              "      <td>Male</td>\n",
              "      <td>No</td>\n",
              "      <td>Sat</td>\n",
              "      <td>Dinner</td>\n",
              "      <td>3</td>\n",
              "    </tr>\n",
              "    <tr>\n",
              "      <th>240</th>\n",
              "      <td>27.18</td>\n",
              "      <td>2.00</td>\n",
              "      <td>Female</td>\n",
              "      <td>Yes</td>\n",
              "      <td>Sat</td>\n",
              "      <td>Dinner</td>\n",
              "      <td>2</td>\n",
              "    </tr>\n",
              "    <tr>\n",
              "      <th>241</th>\n",
              "      <td>22.67</td>\n",
              "      <td>2.00</td>\n",
              "      <td>Male</td>\n",
              "      <td>Yes</td>\n",
              "      <td>Sat</td>\n",
              "      <td>Dinner</td>\n",
              "      <td>2</td>\n",
              "    </tr>\n",
              "    <tr>\n",
              "      <th>242</th>\n",
              "      <td>17.82</td>\n",
              "      <td>1.75</td>\n",
              "      <td>Male</td>\n",
              "      <td>No</td>\n",
              "      <td>Sat</td>\n",
              "      <td>Dinner</td>\n",
              "      <td>2</td>\n",
              "    </tr>\n",
              "    <tr>\n",
              "      <th>243</th>\n",
              "      <td>18.78</td>\n",
              "      <td>3.00</td>\n",
              "      <td>Female</td>\n",
              "      <td>No</td>\n",
              "      <td>Thur</td>\n",
              "      <td>Dinner</td>\n",
              "      <td>2</td>\n",
              "    </tr>\n",
              "  </tbody>\n",
              "</table>\n",
              "<p>244 rows × 7 columns</p>\n",
              "</div>"
            ],
            "text/plain": [
              "     total_bill   tip     sex smoker   day    time  size_of_group\n",
              "0         16.99  1.01  Female     No   Sun  Dinner              2\n",
              "1         10.34  1.66    Male     No   Sun  Dinner              3\n",
              "2         21.01  3.50    Male     No   Sun  Dinner              3\n",
              "3         23.68  3.31    Male     No   Sun  Dinner              2\n",
              "4         24.59  3.61  Female     No   Sun  Dinner              4\n",
              "..          ...   ...     ...    ...   ...     ...            ...\n",
              "239       29.03  5.92    Male     No   Sat  Dinner              3\n",
              "240       27.18  2.00  Female    Yes   Sat  Dinner              2\n",
              "241       22.67  2.00    Male    Yes   Sat  Dinner              2\n",
              "242       17.82  1.75    Male     No   Sat  Dinner              2\n",
              "243       18.78  3.00  Female     No  Thur  Dinner              2\n",
              "\n",
              "[244 rows x 7 columns]"
            ]
          },
          "metadata": {
            "tags": []
          },
          "execution_count": 9
        }
      ]
    },
    {
      "cell_type": "code",
      "metadata": {
        "id": "MIZh_uZG7sDl",
        "outputId": "f49c3c5c-eb0e-4d1f-8b07-0fd19321794c",
        "colab": {
          "base_uri": "https://localhost:8080/",
          "height": 153
        }
      },
      "source": [
        "df_tips.dtypes"
      ],
      "execution_count": null,
      "outputs": [
        {
          "output_type": "execute_result",
          "data": {
            "text/plain": [
              "total_bill       float64\n",
              "tip              float64\n",
              "sex               object\n",
              "smoker            object\n",
              "day               object\n",
              "time              object\n",
              "size_of_group      int64\n",
              "dtype: object"
            ]
          },
          "metadata": {
            "tags": []
          },
          "execution_count": 10
        }
      ]
    },
    {
      "cell_type": "markdown",
      "metadata": {
        "id": "rREEx-TozrK8"
      },
      "source": [
        "## Transformar categorias"
      ]
    },
    {
      "cell_type": "code",
      "metadata": {
        "id": "NMPYF0BHzt7h"
      },
      "source": [
        "cat_df_tips = df_tips[['sex','smoker','day','time']]\n",
        "cat_df_tips = pd.get_dummies(cat_df_tips)"
      ],
      "execution_count": null,
      "outputs": []
    },
    {
      "cell_type": "code",
      "metadata": {
        "id": "yvQZcwJH0SEx"
      },
      "source": [
        "new_df_tips = df_tips[['total_bill','tip','size_of_group']].join(cat_df_tips)"
      ],
      "execution_count": null,
      "outputs": []
    },
    {
      "cell_type": "code",
      "metadata": {
        "id": "tIZth5Pm1ujw",
        "outputId": "5e3ab463-4111-4008-879f-f5dd51662c11",
        "colab": {
          "base_uri": "https://localhost:8080/",
          "height": 419
        }
      },
      "source": [
        "new_df_tips"
      ],
      "execution_count": null,
      "outputs": [
        {
          "output_type": "execute_result",
          "data": {
            "text/html": [
              "<div>\n",
              "<style scoped>\n",
              "    .dataframe tbody tr th:only-of-type {\n",
              "        vertical-align: middle;\n",
              "    }\n",
              "\n",
              "    .dataframe tbody tr th {\n",
              "        vertical-align: top;\n",
              "    }\n",
              "\n",
              "    .dataframe thead th {\n",
              "        text-align: right;\n",
              "    }\n",
              "</style>\n",
              "<table border=\"1\" class=\"dataframe\">\n",
              "  <thead>\n",
              "    <tr style=\"text-align: right;\">\n",
              "      <th></th>\n",
              "      <th>total_bill</th>\n",
              "      <th>tip</th>\n",
              "      <th>size_of_group</th>\n",
              "      <th>sex_Female</th>\n",
              "      <th>sex_Male</th>\n",
              "      <th>smoker_No</th>\n",
              "      <th>smoker_Yes</th>\n",
              "      <th>day_Fri</th>\n",
              "      <th>day_Sat</th>\n",
              "      <th>day_Sun</th>\n",
              "      <th>day_Thur</th>\n",
              "      <th>time_Dinner</th>\n",
              "      <th>time_Lunch</th>\n",
              "    </tr>\n",
              "  </thead>\n",
              "  <tbody>\n",
              "    <tr>\n",
              "      <th>0</th>\n",
              "      <td>16.99</td>\n",
              "      <td>1.01</td>\n",
              "      <td>2</td>\n",
              "      <td>1</td>\n",
              "      <td>0</td>\n",
              "      <td>1</td>\n",
              "      <td>0</td>\n",
              "      <td>0</td>\n",
              "      <td>0</td>\n",
              "      <td>1</td>\n",
              "      <td>0</td>\n",
              "      <td>1</td>\n",
              "      <td>0</td>\n",
              "    </tr>\n",
              "    <tr>\n",
              "      <th>1</th>\n",
              "      <td>10.34</td>\n",
              "      <td>1.66</td>\n",
              "      <td>3</td>\n",
              "      <td>0</td>\n",
              "      <td>1</td>\n",
              "      <td>1</td>\n",
              "      <td>0</td>\n",
              "      <td>0</td>\n",
              "      <td>0</td>\n",
              "      <td>1</td>\n",
              "      <td>0</td>\n",
              "      <td>1</td>\n",
              "      <td>0</td>\n",
              "    </tr>\n",
              "    <tr>\n",
              "      <th>2</th>\n",
              "      <td>21.01</td>\n",
              "      <td>3.50</td>\n",
              "      <td>3</td>\n",
              "      <td>0</td>\n",
              "      <td>1</td>\n",
              "      <td>1</td>\n",
              "      <td>0</td>\n",
              "      <td>0</td>\n",
              "      <td>0</td>\n",
              "      <td>1</td>\n",
              "      <td>0</td>\n",
              "      <td>1</td>\n",
              "      <td>0</td>\n",
              "    </tr>\n",
              "    <tr>\n",
              "      <th>3</th>\n",
              "      <td>23.68</td>\n",
              "      <td>3.31</td>\n",
              "      <td>2</td>\n",
              "      <td>0</td>\n",
              "      <td>1</td>\n",
              "      <td>1</td>\n",
              "      <td>0</td>\n",
              "      <td>0</td>\n",
              "      <td>0</td>\n",
              "      <td>1</td>\n",
              "      <td>0</td>\n",
              "      <td>1</td>\n",
              "      <td>0</td>\n",
              "    </tr>\n",
              "    <tr>\n",
              "      <th>4</th>\n",
              "      <td>24.59</td>\n",
              "      <td>3.61</td>\n",
              "      <td>4</td>\n",
              "      <td>1</td>\n",
              "      <td>0</td>\n",
              "      <td>1</td>\n",
              "      <td>0</td>\n",
              "      <td>0</td>\n",
              "      <td>0</td>\n",
              "      <td>1</td>\n",
              "      <td>0</td>\n",
              "      <td>1</td>\n",
              "      <td>0</td>\n",
              "    </tr>\n",
              "    <tr>\n",
              "      <th>...</th>\n",
              "      <td>...</td>\n",
              "      <td>...</td>\n",
              "      <td>...</td>\n",
              "      <td>...</td>\n",
              "      <td>...</td>\n",
              "      <td>...</td>\n",
              "      <td>...</td>\n",
              "      <td>...</td>\n",
              "      <td>...</td>\n",
              "      <td>...</td>\n",
              "      <td>...</td>\n",
              "      <td>...</td>\n",
              "      <td>...</td>\n",
              "    </tr>\n",
              "    <tr>\n",
              "      <th>239</th>\n",
              "      <td>29.03</td>\n",
              "      <td>5.92</td>\n",
              "      <td>3</td>\n",
              "      <td>0</td>\n",
              "      <td>1</td>\n",
              "      <td>1</td>\n",
              "      <td>0</td>\n",
              "      <td>0</td>\n",
              "      <td>1</td>\n",
              "      <td>0</td>\n",
              "      <td>0</td>\n",
              "      <td>1</td>\n",
              "      <td>0</td>\n",
              "    </tr>\n",
              "    <tr>\n",
              "      <th>240</th>\n",
              "      <td>27.18</td>\n",
              "      <td>2.00</td>\n",
              "      <td>2</td>\n",
              "      <td>1</td>\n",
              "      <td>0</td>\n",
              "      <td>0</td>\n",
              "      <td>1</td>\n",
              "      <td>0</td>\n",
              "      <td>1</td>\n",
              "      <td>0</td>\n",
              "      <td>0</td>\n",
              "      <td>1</td>\n",
              "      <td>0</td>\n",
              "    </tr>\n",
              "    <tr>\n",
              "      <th>241</th>\n",
              "      <td>22.67</td>\n",
              "      <td>2.00</td>\n",
              "      <td>2</td>\n",
              "      <td>0</td>\n",
              "      <td>1</td>\n",
              "      <td>0</td>\n",
              "      <td>1</td>\n",
              "      <td>0</td>\n",
              "      <td>1</td>\n",
              "      <td>0</td>\n",
              "      <td>0</td>\n",
              "      <td>1</td>\n",
              "      <td>0</td>\n",
              "    </tr>\n",
              "    <tr>\n",
              "      <th>242</th>\n",
              "      <td>17.82</td>\n",
              "      <td>1.75</td>\n",
              "      <td>2</td>\n",
              "      <td>0</td>\n",
              "      <td>1</td>\n",
              "      <td>1</td>\n",
              "      <td>0</td>\n",
              "      <td>0</td>\n",
              "      <td>1</td>\n",
              "      <td>0</td>\n",
              "      <td>0</td>\n",
              "      <td>1</td>\n",
              "      <td>0</td>\n",
              "    </tr>\n",
              "    <tr>\n",
              "      <th>243</th>\n",
              "      <td>18.78</td>\n",
              "      <td>3.00</td>\n",
              "      <td>2</td>\n",
              "      <td>1</td>\n",
              "      <td>0</td>\n",
              "      <td>1</td>\n",
              "      <td>0</td>\n",
              "      <td>0</td>\n",
              "      <td>0</td>\n",
              "      <td>0</td>\n",
              "      <td>1</td>\n",
              "      <td>1</td>\n",
              "      <td>0</td>\n",
              "    </tr>\n",
              "  </tbody>\n",
              "</table>\n",
              "<p>244 rows × 13 columns</p>\n",
              "</div>"
            ],
            "text/plain": [
              "     total_bill   tip  size_of_group  ...  day_Thur  time_Dinner  time_Lunch\n",
              "0         16.99  1.01              2  ...         0            1           0\n",
              "1         10.34  1.66              3  ...         0            1           0\n",
              "2         21.01  3.50              3  ...         0            1           0\n",
              "3         23.68  3.31              2  ...         0            1           0\n",
              "4         24.59  3.61              4  ...         0            1           0\n",
              "..          ...   ...            ...  ...       ...          ...         ...\n",
              "239       29.03  5.92              3  ...         0            1           0\n",
              "240       27.18  2.00              2  ...         0            1           0\n",
              "241       22.67  2.00              2  ...         0            1           0\n",
              "242       17.82  1.75              2  ...         0            1           0\n",
              "243       18.78  3.00              2  ...         1            1           0\n",
              "\n",
              "[244 rows x 13 columns]"
            ]
          },
          "metadata": {
            "tags": []
          },
          "execution_count": 13
        }
      ]
    },
    {
      "cell_type": "markdown",
      "metadata": {
        "id": "OMRSsaVOtgU0"
      },
      "source": [
        "### Correlação smoker,sex,time \n"
      ]
    },
    {
      "cell_type": "code",
      "metadata": {
        "id": "_NpbFArbEMdy",
        "outputId": "b5dac3e2-1351-4dcd-917c-bfa19bed11ca",
        "colab": {
          "base_uri": "https://localhost:8080/",
          "height": 344
        }
      },
      "source": [
        "sns.heatmap(new_df_tips.corr(),cmap=\"YlGn\")"
      ],
      "execution_count": null,
      "outputs": [
        {
          "output_type": "execute_result",
          "data": {
            "text/plain": [
              "<matplotlib.axes._subplots.AxesSubplot at 0x7efd3024fcc0>"
            ]
          },
          "metadata": {
            "tags": []
          },
          "execution_count": 14
        },
        {
          "output_type": "display_data",
          "data": {
            "image/png": "[encoded data removed]",
            "text/plain": [
              "<Figure size 432x288 with 2 Axes>"
            ]
          },
          "metadata": {
            "tags": [],
            "needs_background": "light"
          }
        }
      ]
    },
    {
      "cell_type": "code",
      "metadata": {
        "id": "TWDYqntjvz6k",
        "outputId": "7a73ae0b-ee80-44ff-b533-92adfd213fe4",
        "colab": {
          "base_uri": "https://localhost:8080/",
          "height": 452
        }
      },
      "source": [
        "df_corr_pearson = pd.DataFrame (new_df_tips.corr(method ='pearson')['tip'])\n",
        "df_corr_pearson.sort_values('tip',ascending=False)"
      ],
      "execution_count": null,
      "outputs": [
        {
          "output_type": "execute_result",
          "data": {
            "text/html": [
              "<div>\n",
              "<style scoped>\n",
              "    .dataframe tbody tr th:only-of-type {\n",
              "        vertical-align: middle;\n",
              "    }\n",
              "\n",
              "    .dataframe tbody tr th {\n",
              "        vertical-align: top;\n",
              "    }\n",
              "\n",
              "    .dataframe thead th {\n",
              "        text-align: right;\n",
              "    }\n",
              "</style>\n",
              "<table border=\"1\" class=\"dataframe\">\n",
              "  <thead>\n",
              "    <tr style=\"text-align: right;\">\n",
              "      <th></th>\n",
              "      <th>tip</th>\n",
              "    </tr>\n",
              "  </thead>\n",
              "  <tbody>\n",
              "    <tr>\n",
              "      <th>tip</th>\n",
              "      <td>1.000000</td>\n",
              "    </tr>\n",
              "    <tr>\n",
              "      <th>total_bill</th>\n",
              "      <td>0.675734</td>\n",
              "    </tr>\n",
              "    <tr>\n",
              "      <th>size_of_group</th>\n",
              "      <td>0.489299</td>\n",
              "    </tr>\n",
              "    <tr>\n",
              "      <th>day_Sun</th>\n",
              "      <td>0.125114</td>\n",
              "    </tr>\n",
              "    <tr>\n",
              "      <th>time_Dinner</th>\n",
              "      <td>0.121629</td>\n",
              "    </tr>\n",
              "    <tr>\n",
              "      <th>sex_Male</th>\n",
              "      <td>0.088862</td>\n",
              "    </tr>\n",
              "    <tr>\n",
              "      <th>smoker_Yes</th>\n",
              "      <td>0.005929</td>\n",
              "    </tr>\n",
              "    <tr>\n",
              "      <th>day_Sat</th>\n",
              "      <td>-0.002790</td>\n",
              "    </tr>\n",
              "    <tr>\n",
              "      <th>smoker_No</th>\n",
              "      <td>-0.005929</td>\n",
              "    </tr>\n",
              "    <tr>\n",
              "      <th>day_Fri</th>\n",
              "      <td>-0.055463</td>\n",
              "    </tr>\n",
              "    <tr>\n",
              "      <th>sex_Female</th>\n",
              "      <td>-0.088862</td>\n",
              "    </tr>\n",
              "    <tr>\n",
              "      <th>day_Thur</th>\n",
              "      <td>-0.095879</td>\n",
              "    </tr>\n",
              "    <tr>\n",
              "      <th>time_Lunch</th>\n",
              "      <td>-0.121629</td>\n",
              "    </tr>\n",
              "  </tbody>\n",
              "</table>\n",
              "</div>"
            ],
            "text/plain": [
              "                    tip\n",
              "tip            1.000000\n",
              "total_bill     0.675734\n",
              "size_of_group  0.489299\n",
              "day_Sun        0.125114\n",
              "time_Dinner    0.121629\n",
              "sex_Male       0.088862\n",
              "smoker_Yes     0.005929\n",
              "day_Sat       -0.002790\n",
              "smoker_No     -0.005929\n",
              "day_Fri       -0.055463\n",
              "sex_Female    -0.088862\n",
              "day_Thur      -0.095879\n",
              "time_Lunch    -0.121629"
            ]
          },
          "metadata": {
            "tags": []
          },
          "execution_count": 15
        }
      ]
    },
    {
      "cell_type": "code",
      "metadata": {
        "id": "bpFYrUKe-Z6f",
        "outputId": "bb6b8acd-fb3f-49d9-e3b1-7380f3be8e10",
        "colab": {
          "base_uri": "https://localhost:8080/",
          "height": 299
        }
      },
      "source": [
        "sns.distplot(df_tips['total_bill'])"
      ],
      "execution_count": null,
      "outputs": [
        {
          "output_type": "execute_result",
          "data": {
            "text/plain": [
              "<matplotlib.axes._subplots.AxesSubplot at 0x7efd2c6dc828>"
            ]
          },
          "metadata": {
            "tags": []
          },
          "execution_count": 16
        },
        {
          "output_type": "display_data",
          "data": {
            "image/png": "[encoded data removed]",
            "text/plain": [
              "<Figure size 432x288 with 1 Axes>"
            ]
          },
          "metadata": {
            "tags": [],
            "needs_background": "light"
          }
        }
      ]
    },
    {
      "cell_type": "code",
      "metadata": {
        "id": "hAbUUEA00rIG",
        "outputId": "b85d37a6-d243-48af-e7ee-6e2b586bbed5",
        "colab": {
          "base_uri": "https://localhost:8080/",
          "height": 891
        }
      },
      "source": [
        "# Pair plot\n",
        "cols = ['tip','total_bill','size_of_group']\n",
        "\n",
        "sns.set()\n",
        "sns.pairplot(df_tips[cols], height=4, kind='scatter', diag_kind='kde')\n",
        "plt.show()"
      ],
      "execution_count": null,
      "outputs": [
        {
          "output_type": "display_data",
          "data": {
            "image/png": "[encoded data removed]",
            "text/plain": [
              "<Figure size 864x864 with 12 Axes>"
            ]
          },
          "metadata": {
            "tags": []
          }
        }
      ]
    },
    {
      "cell_type": "markdown",
      "metadata": {
        "id": "DwfsaPT-y4XY"
      },
      "source": [
        "### Gorjeta pelo tamanho do grupo"
      ]
    },
    {
      "cell_type": "code",
      "metadata": {
        "id": "z-l90vd6zAkh",
        "outputId": "66de2046-cdb0-4db9-de3f-2adea4daf3df",
        "colab": {
          "base_uri": "https://localhost:8080/",
          "height": 34
        }
      },
      "source": [
        "#dados uniscos de tamanho de grupos de pessoas\n",
        "print('Tamanho dos grupos : ',df_tips['size_of_group'].unique())"
      ],
      "execution_count": null,
      "outputs": [
        {
          "output_type": "stream",
          "text": [
            "Tamanho dos grupos :  [2 3 4 1 6 5]\n"
          ],
          "name": "stdout"
        }
      ]
    },
    {
      "cell_type": "code",
      "metadata": {
        "id": "VvXmlVby2qvc",
        "outputId": "4123f2c9-7939-4899-c1c1-d65d44d549bc",
        "colab": {
          "base_uri": "https://localhost:8080/",
          "height": 283
        }
      },
      "source": [
        "print('Media de valor total e tip por quantidade de pessoas')\n",
        "df_tips.groupby(['size_of_group']).mean()"
      ],
      "execution_count": null,
      "outputs": [
        {
          "output_type": "stream",
          "text": [
            "Media de valor total e tip por quantidade de pessoas\n"
          ],
          "name": "stdout"
        },
        {
          "output_type": "execute_result",
          "data": {
            "text/html": [
              "<div>\n",
              "<style scoped>\n",
              "    .dataframe tbody tr th:only-of-type {\n",
              "        vertical-align: middle;\n",
              "    }\n",
              "\n",
              "    .dataframe tbody tr th {\n",
              "        vertical-align: top;\n",
              "    }\n",
              "\n",
              "    .dataframe thead th {\n",
              "        text-align: right;\n",
              "    }\n",
              "</style>\n",
              "<table border=\"1\" class=\"dataframe\">\n",
              "  <thead>\n",
              "    <tr style=\"text-align: right;\">\n",
              "      <th></th>\n",
              "      <th>total_bill</th>\n",
              "      <th>tip</th>\n",
              "    </tr>\n",
              "    <tr>\n",
              "      <th>size_of_group</th>\n",
              "      <th></th>\n",
              "      <th></th>\n",
              "    </tr>\n",
              "  </thead>\n",
              "  <tbody>\n",
              "    <tr>\n",
              "      <th>1</th>\n",
              "      <td>7.242500</td>\n",
              "      <td>1.437500</td>\n",
              "    </tr>\n",
              "    <tr>\n",
              "      <th>2</th>\n",
              "      <td>16.448013</td>\n",
              "      <td>2.582308</td>\n",
              "    </tr>\n",
              "    <tr>\n",
              "      <th>3</th>\n",
              "      <td>23.277632</td>\n",
              "      <td>3.393158</td>\n",
              "    </tr>\n",
              "    <tr>\n",
              "      <th>4</th>\n",
              "      <td>28.613514</td>\n",
              "      <td>4.135405</td>\n",
              "    </tr>\n",
              "    <tr>\n",
              "      <th>5</th>\n",
              "      <td>30.068000</td>\n",
              "      <td>4.028000</td>\n",
              "    </tr>\n",
              "    <tr>\n",
              "      <th>6</th>\n",
              "      <td>34.830000</td>\n",
              "      <td>5.225000</td>\n",
              "    </tr>\n",
              "  </tbody>\n",
              "</table>\n",
              "</div>"
            ],
            "text/plain": [
              "               total_bill       tip\n",
              "size_of_group                      \n",
              "1                7.242500  1.437500\n",
              "2               16.448013  2.582308\n",
              "3               23.277632  3.393158\n",
              "4               28.613514  4.135405\n",
              "5               30.068000  4.028000\n",
              "6               34.830000  5.225000"
            ]
          },
          "metadata": {
            "tags": []
          },
          "execution_count": 19
        }
      ]
    },
    {
      "cell_type": "code",
      "metadata": {
        "id": "_iAsYIw03ZAv",
        "outputId": "429bc6bd-20d7-4c5f-f819-902feaf2af26",
        "colab": {
          "base_uri": "https://localhost:8080/",
          "height": 266
        }
      },
      "source": [
        "df_stats = df_tips.groupby(\"size_of_group\")[\"tip\"].agg([pd.Series.mode, \"count\",\"median\",\"mean\",\"std\"])\n",
        "df_stats"
      ],
      "execution_count": null,
      "outputs": [
        {
          "output_type": "execute_result",
          "data": {
            "text/html": [
              "<div>\n",
              "<style scoped>\n",
              "    .dataframe tbody tr th:only-of-type {\n",
              "        vertical-align: middle;\n",
              "    }\n",
              "\n",
              "    .dataframe tbody tr th {\n",
              "        vertical-align: top;\n",
              "    }\n",
              "\n",
              "    .dataframe thead th {\n",
              "        text-align: right;\n",
              "    }\n",
              "</style>\n",
              "<table border=\"1\" class=\"dataframe\">\n",
              "  <thead>\n",
              "    <tr style=\"text-align: right;\">\n",
              "      <th></th>\n",
              "      <th>mode</th>\n",
              "      <th>count</th>\n",
              "      <th>median</th>\n",
              "      <th>mean</th>\n",
              "      <th>std</th>\n",
              "    </tr>\n",
              "    <tr>\n",
              "      <th>size_of_group</th>\n",
              "      <th></th>\n",
              "      <th></th>\n",
              "      <th></th>\n",
              "      <th></th>\n",
              "      <th></th>\n",
              "    </tr>\n",
              "  </thead>\n",
              "  <tbody>\n",
              "    <tr>\n",
              "      <th>1</th>\n",
              "      <td>1</td>\n",
              "      <td>4</td>\n",
              "      <td>1.415</td>\n",
              "      <td>1.437500</td>\n",
              "      <td>0.506516</td>\n",
              "    </tr>\n",
              "    <tr>\n",
              "      <th>2</th>\n",
              "      <td>2</td>\n",
              "      <td>156</td>\n",
              "      <td>2.500</td>\n",
              "      <td>2.582308</td>\n",
              "      <td>0.985501</td>\n",
              "    </tr>\n",
              "    <tr>\n",
              "      <th>3</th>\n",
              "      <td>3.5</td>\n",
              "      <td>38</td>\n",
              "      <td>3.290</td>\n",
              "      <td>3.393158</td>\n",
              "      <td>1.557344</td>\n",
              "    </tr>\n",
              "    <tr>\n",
              "      <th>4</th>\n",
              "      <td>[2.0, 3.0]</td>\n",
              "      <td>37</td>\n",
              "      <td>3.760</td>\n",
              "      <td>4.135405</td>\n",
              "      <td>1.640668</td>\n",
              "    </tr>\n",
              "    <tr>\n",
              "      <th>5</th>\n",
              "      <td>5</td>\n",
              "      <td>5</td>\n",
              "      <td>5.000</td>\n",
              "      <td>4.028000</td>\n",
              "      <td>1.440111</td>\n",
              "    </tr>\n",
              "    <tr>\n",
              "      <th>6</th>\n",
              "      <td>5</td>\n",
              "      <td>4</td>\n",
              "      <td>5.000</td>\n",
              "      <td>5.225000</td>\n",
              "      <td>1.053170</td>\n",
              "    </tr>\n",
              "  </tbody>\n",
              "</table>\n",
              "</div>"
            ],
            "text/plain": [
              "                     mode  count  median      mean       std\n",
              "size_of_group                                               \n",
              "1                       1      4   1.415  1.437500  0.506516\n",
              "2                       2    156   2.500  2.582308  0.985501\n",
              "3                     3.5     38   3.290  3.393158  1.557344\n",
              "4              [2.0, 3.0]     37   3.760  4.135405  1.640668\n",
              "5                       5      5   5.000  4.028000  1.440111\n",
              "6                       5      4   5.000  5.225000  1.053170"
            ]
          },
          "metadata": {
            "tags": []
          },
          "execution_count": 51
        }
      ]
    },
    {
      "cell_type": "code",
      "metadata": {
        "id": "nc05RJhi5Tlv",
        "outputId": "43a8e758-f44c-42f3-b4af-3250f1d18d06",
        "colab": {
          "base_uri": "https://localhost:8080/",
          "height": 142
        }
      },
      "source": [
        "df_stats = df_tips.groupby(\"smoker\")[\"tip\"].agg([pd.Series.mode,\"count\",\"median\",\"mean\",\"std\"])\n",
        "df_stats"
      ],
      "execution_count": null,
      "outputs": [
        {
          "output_type": "execute_result",
          "data": {
            "text/html": [
              "<div>\n",
              "<style scoped>\n",
              "    .dataframe tbody tr th:only-of-type {\n",
              "        vertical-align: middle;\n",
              "    }\n",
              "\n",
              "    .dataframe tbody tr th {\n",
              "        vertical-align: top;\n",
              "    }\n",
              "\n",
              "    .dataframe thead th {\n",
              "        text-align: right;\n",
              "    }\n",
              "</style>\n",
              "<table border=\"1\" class=\"dataframe\">\n",
              "  <thead>\n",
              "    <tr style=\"text-align: right;\">\n",
              "      <th></th>\n",
              "      <th>mode</th>\n",
              "      <th>count</th>\n",
              "      <th>median</th>\n",
              "      <th>mean</th>\n",
              "      <th>std</th>\n",
              "    </tr>\n",
              "    <tr>\n",
              "      <th>smoker</th>\n",
              "      <th></th>\n",
              "      <th></th>\n",
              "      <th></th>\n",
              "      <th></th>\n",
              "      <th></th>\n",
              "    </tr>\n",
              "  </thead>\n",
              "  <tbody>\n",
              "    <tr>\n",
              "      <th>No</th>\n",
              "      <td>2.0</td>\n",
              "      <td>151</td>\n",
              "      <td>2.74</td>\n",
              "      <td>2.991854</td>\n",
              "      <td>1.377190</td>\n",
              "    </tr>\n",
              "    <tr>\n",
              "      <th>Yes</th>\n",
              "      <td>2.0</td>\n",
              "      <td>93</td>\n",
              "      <td>3.00</td>\n",
              "      <td>3.008710</td>\n",
              "      <td>1.401468</td>\n",
              "    </tr>\n",
              "  </tbody>\n",
              "</table>\n",
              "</div>"
            ],
            "text/plain": [
              "        mode  count  median      mean       std\n",
              "smoker                                         \n",
              "No       2.0    151    2.74  2.991854  1.377190\n",
              "Yes      2.0     93    3.00  3.008710  1.401468"
            ]
          },
          "metadata": {
            "tags": []
          },
          "execution_count": 52
        }
      ]
    },
    {
      "cell_type": "code",
      "metadata": {
        "id": "ykkbbNEN6eMh",
        "outputId": "0c963933-90dd-47e1-8266-d0a0468706a4",
        "colab": {
          "base_uri": "https://localhost:8080/",
          "height": 142
        }
      },
      "source": [
        "df_stats = df_tips.groupby(\"sex\")[\"tip\"].agg([pd.Series.mode,\"count\", \"median\",\"mean\",\"std\"])\n",
        "df_stats"
      ],
      "execution_count": null,
      "outputs": [
        {
          "output_type": "execute_result",
          "data": {
            "text/html": [
              "<div>\n",
              "<style scoped>\n",
              "    .dataframe tbody tr th:only-of-type {\n",
              "        vertical-align: middle;\n",
              "    }\n",
              "\n",
              "    .dataframe tbody tr th {\n",
              "        vertical-align: top;\n",
              "    }\n",
              "\n",
              "    .dataframe thead th {\n",
              "        text-align: right;\n",
              "    }\n",
              "</style>\n",
              "<table border=\"1\" class=\"dataframe\">\n",
              "  <thead>\n",
              "    <tr style=\"text-align: right;\">\n",
              "      <th></th>\n",
              "      <th>mode</th>\n",
              "      <th>count</th>\n",
              "      <th>median</th>\n",
              "      <th>mean</th>\n",
              "      <th>std</th>\n",
              "    </tr>\n",
              "    <tr>\n",
              "      <th>sex</th>\n",
              "      <th></th>\n",
              "      <th></th>\n",
              "      <th></th>\n",
              "      <th></th>\n",
              "      <th></th>\n",
              "    </tr>\n",
              "  </thead>\n",
              "  <tbody>\n",
              "    <tr>\n",
              "      <th>Female</th>\n",
              "      <td>2.0</td>\n",
              "      <td>87</td>\n",
              "      <td>2.75</td>\n",
              "      <td>2.833448</td>\n",
              "      <td>1.159495</td>\n",
              "    </tr>\n",
              "    <tr>\n",
              "      <th>Male</th>\n",
              "      <td>2.0</td>\n",
              "      <td>157</td>\n",
              "      <td>3.00</td>\n",
              "      <td>3.089618</td>\n",
              "      <td>1.489102</td>\n",
              "    </tr>\n",
              "  </tbody>\n",
              "</table>\n",
              "</div>"
            ],
            "text/plain": [
              "        mode  count  median      mean       std\n",
              "sex                                            \n",
              "Female   2.0     87    2.75  2.833448  1.159495\n",
              "Male     2.0    157    3.00  3.089618  1.489102"
            ]
          },
          "metadata": {
            "tags": []
          },
          "execution_count": 53
        }
      ]
    },
    {
      "cell_type": "code",
      "metadata": {
        "id": "qowZXOrm8f7I",
        "outputId": "80f96fd0-521b-41c9-dba4-a955092bc57a",
        "colab": {
          "base_uri": "https://localhost:8080/",
          "height": 285
        }
      },
      "source": [
        "ax = sns.boxplot(x=df_tips[\"total_bill\"])"
      ],
      "execution_count": null,
      "outputs": [
        {
          "output_type": "display_data",
          "data": {
            "image/png": "[encoded data removed]",
            "text/plain": [
              "<Figure size 432x288 with 1 Axes>"
            ]
          },
          "metadata": {
            "tags": []
          }
        }
      ]
    },
    {
      "cell_type": "code",
      "metadata": {
        "id": "AbounHsfgPYy"
      },
      "source": [
        ""
      ],
      "execution_count": null,
      "outputs": []
    },
    {
      "cell_type": "code",
      "metadata": {
        "id": "1xf0Ori_6wQ_",
        "outputId": "c74c9d96-b7a1-459c-ac31-d1a81156915a",
        "colab": {
          "base_uri": "https://localhost:8080/",
          "height": 285
        }
      },
      "source": [
        "ax = sns.boxplot(x=\"day\", y=\"total_bill\", data=df_tips)"
      ],
      "execution_count": null,
      "outputs": [
        {
          "output_type": "display_data",
          "data": {
            "image/png": "[encoded data removed]",
            "text/plain": [
              "<Figure size 432x288 with 1 Axes>"
            ]
          },
          "metadata": {
            "tags": []
          }
        }
      ]
    },
    {
      "cell_type": "code",
      "metadata": {
        "id": "YLah_L4R9KPw",
        "outputId": "298fef6b-d7f0-4ef1-9c17-d28be354c3bd",
        "colab": {
          "base_uri": "https://localhost:8080/",
          "height": 285
        }
      },
      "source": [
        "ax = sns.boxplot(x=\"day\", y=\"total_bill\", hue=\"smoker\",\n",
        "                 data=df_tips, palette=\"Set3\")"
      ],
      "execution_count": null,
      "outputs": [
        {
          "output_type": "display_data",
          "data": {
            "image/png": "[encoded data removed]",
            "text/plain": [
              "<Figure size 432x288 with 1 Axes>"
            ]
          },
          "metadata": {
            "tags": []
          }
        }
      ]
    },
    {
      "cell_type": "code",
      "metadata": {
        "id": "k4H7oTQP9YYA",
        "outputId": "99086ae2-b8b9-4634-a1ab-af772b60fca0",
        "colab": {
          "base_uri": "https://localhost:8080/",
          "height": 285
        }
      },
      "source": [
        "ax = sns.boxplot(x=\"day\", y=\"total_bill\", hue=\"time\",\n",
        "                 data=df_tips, linewidth=2.5)"
      ],
      "execution_count": null,
      "outputs": [
        {
          "output_type": "display_data",
          "data": {
            "image/png": "[encoded data removed]",
            "text/plain": [
              "<Figure size 432x288 with 1 Axes>"
            ]
          },
          "metadata": {
            "tags": []
          }
        }
      ]
    },
    {
      "cell_type": "code",
      "metadata": {
        "id": "OMHsDK8O9cjT",
        "outputId": "72b1791c-6a11-4f4a-aded-3832cb5bb4f2",
        "colab": {
          "base_uri": "https://localhost:8080/",
          "height": 285
        }
      },
      "source": [
        "ax = sns.boxplot(x=\"time\", y=\"tip\", data=df_tips,\n",
        "                 order=[\"Dinner\", \"Lunch\"])"
      ],
      "execution_count": null,
      "outputs": [
        {
          "output_type": "display_data",
          "data": {
            "image/png": "[encoded data removed]",
            "text/plain": [
              "<Figure size 432x288 with 1 Axes>"
            ]
          },
          "metadata": {
            "tags": []
          }
        }
      ]
    },
    {
      "cell_type": "code",
      "metadata": {
        "id": "Rhi-aaDB90zs"
      },
      "source": [
        ""
      ],
      "execution_count": null,
      "outputs": []
    },
    {
      "cell_type": "markdown",
      "metadata": {
        "id": "1kJYjC5clbvL"
      },
      "source": [
        "### Total de Registros por sexo"
      ]
    },
    {
      "cell_type": "code",
      "metadata": {
        "id": "KvhkuJ_7kesL",
        "outputId": "92422795-f025-4101-c9ef-9f94c7a3f248",
        "colab": {
          "base_uri": "https://localhost:8080/",
          "height": 68
        }
      },
      "source": [
        "df_tips['sex'].value_counts()"
      ],
      "execution_count": null,
      "outputs": [
        {
          "output_type": "execute_result",
          "data": {
            "text/plain": [
              "Male      157\n",
              "Female     87\n",
              "Name: sex, dtype: int64"
            ]
          },
          "metadata": {
            "tags": []
          },
          "execution_count": 55
        }
      ]
    },
    {
      "cell_type": "code",
      "metadata": {
        "id": "8OsvQ9bH_eVu",
        "outputId": "547dc296-8c21-41b3-d7f5-c0cbf50e5331",
        "colab": {
          "base_uri": "https://localhost:8080/",
          "height": 285
        }
      },
      "source": [
        "sns.countplot(x='day',data=df_tips,hue='sex',order=[\"Thur\",\"Fri\",\"Sat\",'Sun'])\n",
        "plt.show()"
      ],
      "execution_count": null,
      "outputs": [
        {
          "output_type": "display_data",
          "data": {
            "image/png": "[encoded data removed]",
            "text/plain": [
              "<Figure size 432x288 with 1 Axes>"
            ]
          },
          "metadata": {
            "tags": []
          }
        }
      ]
    },
    {
      "cell_type": "code",
      "metadata": {
        "id": "scikkrD9_9nh",
        "outputId": "910edf71-09cd-4a6d-9c7f-745c0f2a63dd",
        "colab": {
          "base_uri": "https://localhost:8080/",
          "height": 285
        }
      },
      "source": [
        "sns.countplot(x='size_of_group',data=df_tips,hue='sex')\n",
        "plt.show()"
      ],
      "execution_count": null,
      "outputs": [
        {
          "output_type": "display_data",
          "data": {
            "image/png": "[encoded data removed]",
            "text/plain": [
              "<Figure size 432x288 with 1 Axes>"
            ]
          },
          "metadata": {
            "tags": []
          }
        }
      ]
    },
    {
      "cell_type": "code",
      "metadata": {
        "id": "Tf7TKFTy_KhB",
        "outputId": "33c41c9c-86d4-43a1-fa48-5639a8c2634c",
        "colab": {
          "base_uri": "https://localhost:8080/",
          "height": 285
        }
      },
      "source": [
        "sns.swarmplot(x='day',y='total_bill',data=df_tips,hue='sex',order=[\"Thur\",\"Fri\",\"Sat\",'Sun'])\n",
        "plt.grid()\n",
        "plt.axhline(20,color='black')\n",
        "plt.show()"
      ],
      "execution_count": null,
      "outputs": [
        {
          "output_type": "display_data",
          "data": {
            "image/png": "[encoded data removed]",
            "text/plain": [
              "<Figure size 432x288 with 1 Axes>"
            ]
          },
          "metadata": {
            "tags": []
          }
        }
      ]
    },
    {
      "cell_type": "code",
      "metadata": {
        "id": "r7deGwl3_Qnm",
        "outputId": "71cc3bb2-b891-4bd1-9bb7-2c8abb74b59c",
        "colab": {
          "base_uri": "https://localhost:8080/",
          "height": 285
        }
      },
      "source": [
        "sns.scatterplot(x='total_bill',y='tip',data=df_tips,hue='sex')\n",
        "plt.show()"
      ],
      "execution_count": null,
      "outputs": [
        {
          "output_type": "display_data",
          "data": {
            "image/png": "[encoded data removed]",
            "text/plain": [
              "<Figure size 432x288 with 1 Axes>"
            ]
          },
          "metadata": {
            "tags": []
          }
        }
      ]
    },
    {
      "cell_type": "code",
      "metadata": {
        "id": "ukF4Ao3eA8ry",
        "outputId": "df8d45b9-e20d-4d07-bbc3-183e8ecb381a",
        "colab": {
          "base_uri": "https://localhost:8080/",
          "height": 567
        }
      },
      "source": [
        "sns.pairplot(data=df_tips,hue='sex')\n",
        "plt.show()"
      ],
      "execution_count": null,
      "outputs": [
        {
          "output_type": "display_data",
          "data": {
            "image/png": "[encoded data removed]",
            "text/plain": [
              "<Figure size 619.725x540 with 12 Axes>"
            ]
          },
          "metadata": {
            "tags": []
          }
        }
      ]
    },
    {
      "cell_type": "markdown",
      "metadata": {
        "id": "O5UtHuN3lkPR"
      },
      "source": [
        "### Media de TIPS por dia - Ticket Medio"
      ]
    },
    {
      "cell_type": "code",
      "metadata": {
        "id": "Edde_gKuli1g",
        "outputId": "b63123ca-c96e-4035-9572-fa1822b99771",
        "colab": {
          "base_uri": "https://localhost:8080/",
          "height": 204
        }
      },
      "source": [
        "df_tips.groupby(['day']).mean().sort_values(by=['total_bill'], ascending = False)"
      ],
      "execution_count": null,
      "outputs": [
        {
          "output_type": "execute_result",
          "data": {
            "text/html": [
              "<div>\n",
              "<style scoped>\n",
              "    .dataframe tbody tr th:only-of-type {\n",
              "        vertical-align: middle;\n",
              "    }\n",
              "\n",
              "    .dataframe tbody tr th {\n",
              "        vertical-align: top;\n",
              "    }\n",
              "\n",
              "    .dataframe thead th {\n",
              "        text-align: right;\n",
              "    }\n",
              "</style>\n",
              "<table border=\"1\" class=\"dataframe\">\n",
              "  <thead>\n",
              "    <tr style=\"text-align: right;\">\n",
              "      <th></th>\n",
              "      <th>total_bill</th>\n",
              "      <th>tip</th>\n",
              "      <th>size_of_group</th>\n",
              "    </tr>\n",
              "    <tr>\n",
              "      <th>day</th>\n",
              "      <th></th>\n",
              "      <th></th>\n",
              "      <th></th>\n",
              "    </tr>\n",
              "  </thead>\n",
              "  <tbody>\n",
              "    <tr>\n",
              "      <th>Sun</th>\n",
              "      <td>21.410000</td>\n",
              "      <td>3.255132</td>\n",
              "      <td>2.842105</td>\n",
              "    </tr>\n",
              "    <tr>\n",
              "      <th>Sat</th>\n",
              "      <td>20.441379</td>\n",
              "      <td>2.993103</td>\n",
              "      <td>2.517241</td>\n",
              "    </tr>\n",
              "    <tr>\n",
              "      <th>Thur</th>\n",
              "      <td>17.682742</td>\n",
              "      <td>2.771452</td>\n",
              "      <td>2.451613</td>\n",
              "    </tr>\n",
              "    <tr>\n",
              "      <th>Fri</th>\n",
              "      <td>17.151579</td>\n",
              "      <td>2.734737</td>\n",
              "      <td>2.105263</td>\n",
              "    </tr>\n",
              "  </tbody>\n",
              "</table>\n",
              "</div>"
            ],
            "text/plain": [
              "      total_bill       tip  size_of_group\n",
              "day                                      \n",
              "Sun    21.410000  3.255132       2.842105\n",
              "Sat    20.441379  2.993103       2.517241\n",
              "Thur   17.682742  2.771452       2.451613\n",
              "Fri    17.151579  2.734737       2.105263"
            ]
          },
          "metadata": {
            "tags": []
          },
          "execution_count": 34
        }
      ]
    },
    {
      "cell_type": "code",
      "metadata": {
        "id": "ipT71oZ67-TO",
        "outputId": "d03e8295-13b6-4827-e567-b42fe7bc668f",
        "colab": {
          "base_uri": "https://localhost:8080/",
          "height": 204
        }
      },
      "source": [
        "df_tips.groupby(['day']).median().sort_values(by=['total_bill'], ascending = False)"
      ],
      "execution_count": null,
      "outputs": [
        {
          "output_type": "execute_result",
          "data": {
            "text/html": [
              "<div>\n",
              "<style scoped>\n",
              "    .dataframe tbody tr th:only-of-type {\n",
              "        vertical-align: middle;\n",
              "    }\n",
              "\n",
              "    .dataframe tbody tr th {\n",
              "        vertical-align: top;\n",
              "    }\n",
              "\n",
              "    .dataframe thead th {\n",
              "        text-align: right;\n",
              "    }\n",
              "</style>\n",
              "<table border=\"1\" class=\"dataframe\">\n",
              "  <thead>\n",
              "    <tr style=\"text-align: right;\">\n",
              "      <th></th>\n",
              "      <th>total_bill</th>\n",
              "      <th>tip</th>\n",
              "      <th>size_of_group</th>\n",
              "    </tr>\n",
              "    <tr>\n",
              "      <th>day</th>\n",
              "      <th></th>\n",
              "      <th></th>\n",
              "      <th></th>\n",
              "    </tr>\n",
              "  </thead>\n",
              "  <tbody>\n",
              "    <tr>\n",
              "      <th>Sun</th>\n",
              "      <td>19.63</td>\n",
              "      <td>3.150</td>\n",
              "      <td>2</td>\n",
              "    </tr>\n",
              "    <tr>\n",
              "      <th>Sat</th>\n",
              "      <td>18.24</td>\n",
              "      <td>2.750</td>\n",
              "      <td>2</td>\n",
              "    </tr>\n",
              "    <tr>\n",
              "      <th>Thur</th>\n",
              "      <td>16.20</td>\n",
              "      <td>2.305</td>\n",
              "      <td>2</td>\n",
              "    </tr>\n",
              "    <tr>\n",
              "      <th>Fri</th>\n",
              "      <td>15.38</td>\n",
              "      <td>3.000</td>\n",
              "      <td>2</td>\n",
              "    </tr>\n",
              "  </tbody>\n",
              "</table>\n",
              "</div>"
            ],
            "text/plain": [
              "      total_bill    tip  size_of_group\n",
              "day                                   \n",
              "Sun        19.63  3.150              2\n",
              "Sat        18.24  2.750              2\n",
              "Thur       16.20  2.305              2\n",
              "Fri        15.38  3.000              2"
            ]
          },
          "metadata": {
            "tags": []
          },
          "execution_count": 35
        }
      ]
    },
    {
      "cell_type": "markdown",
      "metadata": {
        "id": "IRAjHsdymr9L"
      },
      "source": [
        "### Gorjeta é maior no almoço ou jantar?"
      ]
    },
    {
      "cell_type": "code",
      "metadata": {
        "id": "Iv9RcJBWnewl",
        "outputId": "3092ba8a-8fb9-416d-9b4e-c7f2c3a4964e",
        "colab": {
          "base_uri": "https://localhost:8080/",
          "height": 142
        }
      },
      "source": [
        "df_tips.groupby(['time']).mean()"
      ],
      "execution_count": null,
      "outputs": [
        {
          "output_type": "execute_result",
          "data": {
            "text/html": [
              "<div>\n",
              "<style scoped>\n",
              "    .dataframe tbody tr th:only-of-type {\n",
              "        vertical-align: middle;\n",
              "    }\n",
              "\n",
              "    .dataframe tbody tr th {\n",
              "        vertical-align: top;\n",
              "    }\n",
              "\n",
              "    .dataframe thead th {\n",
              "        text-align: right;\n",
              "    }\n",
              "</style>\n",
              "<table border=\"1\" class=\"dataframe\">\n",
              "  <thead>\n",
              "    <tr style=\"text-align: right;\">\n",
              "      <th></th>\n",
              "      <th>total_bill</th>\n",
              "      <th>tip</th>\n",
              "      <th>size_of_group</th>\n",
              "    </tr>\n",
              "    <tr>\n",
              "      <th>time</th>\n",
              "      <th></th>\n",
              "      <th></th>\n",
              "      <th></th>\n",
              "    </tr>\n",
              "  </thead>\n",
              "  <tbody>\n",
              "    <tr>\n",
              "      <th>Dinner</th>\n",
              "      <td>20.797159</td>\n",
              "      <td>3.102670</td>\n",
              "      <td>2.630682</td>\n",
              "    </tr>\n",
              "    <tr>\n",
              "      <th>Lunch</th>\n",
              "      <td>17.168676</td>\n",
              "      <td>2.728088</td>\n",
              "      <td>2.411765</td>\n",
              "    </tr>\n",
              "  </tbody>\n",
              "</table>\n",
              "</div>"
            ],
            "text/plain": [
              "        total_bill       tip  size_of_group\n",
              "time                                       \n",
              "Dinner   20.797159  3.102670       2.630682\n",
              "Lunch    17.168676  2.728088       2.411765"
            ]
          },
          "metadata": {
            "tags": []
          },
          "execution_count": 36
        }
      ]
    },
    {
      "cell_type": "markdown",
      "metadata": {
        "id": "s5K52Ld-nzR-"
      },
      "source": [
        "### Existe relação entre pagamento Fumante/Não fumante?"
      ]
    },
    {
      "cell_type": "code",
      "metadata": {
        "id": "ziwcjY05oa6y",
        "outputId": "533f5f1a-5fcf-4dc2-e70c-85e3c864bd61",
        "colab": {
          "base_uri": "https://localhost:8080/",
          "height": 142
        }
      },
      "source": [
        "df_tips.groupby(['smoker']).mean()"
      ],
      "execution_count": null,
      "outputs": [
        {
          "output_type": "execute_result",
          "data": {
            "text/html": [
              "<div>\n",
              "<style scoped>\n",
              "    .dataframe tbody tr th:only-of-type {\n",
              "        vertical-align: middle;\n",
              "    }\n",
              "\n",
              "    .dataframe tbody tr th {\n",
              "        vertical-align: top;\n",
              "    }\n",
              "\n",
              "    .dataframe thead th {\n",
              "        text-align: right;\n",
              "    }\n",
              "</style>\n",
              "<table border=\"1\" class=\"dataframe\">\n",
              "  <thead>\n",
              "    <tr style=\"text-align: right;\">\n",
              "      <th></th>\n",
              "      <th>total_bill</th>\n",
              "      <th>tip</th>\n",
              "      <th>size_of_group</th>\n",
              "    </tr>\n",
              "    <tr>\n",
              "      <th>smoker</th>\n",
              "      <th></th>\n",
              "      <th></th>\n",
              "      <th></th>\n",
              "    </tr>\n",
              "  </thead>\n",
              "  <tbody>\n",
              "    <tr>\n",
              "      <th>No</th>\n",
              "      <td>19.188278</td>\n",
              "      <td>2.991854</td>\n",
              "      <td>2.668874</td>\n",
              "    </tr>\n",
              "    <tr>\n",
              "      <th>Yes</th>\n",
              "      <td>20.756344</td>\n",
              "      <td>3.008710</td>\n",
              "      <td>2.408602</td>\n",
              "    </tr>\n",
              "  </tbody>\n",
              "</table>\n",
              "</div>"
            ],
            "text/plain": [
              "        total_bill       tip  size_of_group\n",
              "smoker                                     \n",
              "No       19.188278  2.991854       2.668874\n",
              "Yes      20.756344  3.008710       2.408602"
            ]
          },
          "metadata": {
            "tags": []
          },
          "execution_count": 37
        }
      ]
    },
    {
      "cell_type": "markdown",
      "metadata": {
        "id": "KVIHmWecowvh"
      },
      "source": [
        "### Qual dia seria mais intessante para promoção?"
      ]
    },
    {
      "cell_type": "code",
      "metadata": {
        "id": "ePZrbi7Foo-L",
        "outputId": "10b52b9f-7b5b-41f1-ad0b-f17233fef635",
        "colab": {
          "base_uri": "https://localhost:8080/",
          "height": 266
        }
      },
      "source": [
        "df_tips.groupby(['day','time']).sum().sort_values(by=['total_bill'], ascending=False)"
      ],
      "execution_count": null,
      "outputs": [
        {
          "output_type": "execute_result",
          "data": {
            "text/html": [
              "<div>\n",
              "<style scoped>\n",
              "    .dataframe tbody tr th:only-of-type {\n",
              "        vertical-align: middle;\n",
              "    }\n",
              "\n",
              "    .dataframe tbody tr th {\n",
              "        vertical-align: top;\n",
              "    }\n",
              "\n",
              "    .dataframe thead th {\n",
              "        text-align: right;\n",
              "    }\n",
              "</style>\n",
              "<table border=\"1\" class=\"dataframe\">\n",
              "  <thead>\n",
              "    <tr style=\"text-align: right;\">\n",
              "      <th></th>\n",
              "      <th></th>\n",
              "      <th>total_bill</th>\n",
              "      <th>tip</th>\n",
              "      <th>size_of_group</th>\n",
              "    </tr>\n",
              "    <tr>\n",
              "      <th>day</th>\n",
              "      <th>time</th>\n",
              "      <th></th>\n",
              "      <th></th>\n",
              "      <th></th>\n",
              "    </tr>\n",
              "  </thead>\n",
              "  <tbody>\n",
              "    <tr>\n",
              "      <th>Sat</th>\n",
              "      <th>Dinner</th>\n",
              "      <td>1778.40</td>\n",
              "      <td>260.40</td>\n",
              "      <td>219</td>\n",
              "    </tr>\n",
              "    <tr>\n",
              "      <th>Sun</th>\n",
              "      <th>Dinner</th>\n",
              "      <td>1627.16</td>\n",
              "      <td>247.39</td>\n",
              "      <td>216</td>\n",
              "    </tr>\n",
              "    <tr>\n",
              "      <th>Thur</th>\n",
              "      <th>Lunch</th>\n",
              "      <td>1077.55</td>\n",
              "      <td>168.83</td>\n",
              "      <td>150</td>\n",
              "    </tr>\n",
              "    <tr>\n",
              "      <th rowspan=\"2\" valign=\"top\">Fri</th>\n",
              "      <th>Dinner</th>\n",
              "      <td>235.96</td>\n",
              "      <td>35.28</td>\n",
              "      <td>26</td>\n",
              "    </tr>\n",
              "    <tr>\n",
              "      <th>Lunch</th>\n",
              "      <td>89.92</td>\n",
              "      <td>16.68</td>\n",
              "      <td>14</td>\n",
              "    </tr>\n",
              "    <tr>\n",
              "      <th>Thur</th>\n",
              "      <th>Dinner</th>\n",
              "      <td>18.78</td>\n",
              "      <td>3.00</td>\n",
              "      <td>2</td>\n",
              "    </tr>\n",
              "  </tbody>\n",
              "</table>\n",
              "</div>"
            ],
            "text/plain": [
              "             total_bill     tip  size_of_group\n",
              "day  time                                     \n",
              "Sat  Dinner     1778.40  260.40            219\n",
              "Sun  Dinner     1627.16  247.39            216\n",
              "Thur Lunch      1077.55  168.83            150\n",
              "Fri  Dinner      235.96   35.28             26\n",
              "     Lunch        89.92   16.68             14\n",
              "Thur Dinner       18.78    3.00              2"
            ]
          },
          "metadata": {
            "tags": []
          },
          "execution_count": 38
        }
      ]
    },
    {
      "cell_type": "markdown",
      "metadata": {
        "id": "K2-OClfNqKok"
      },
      "source": [
        " ### Médias\n"
      ]
    },
    {
      "cell_type": "code",
      "metadata": {
        "id": "II92NmuRqUkp",
        "outputId": "4af4b600-16b9-4495-e258-5d4da095474d",
        "colab": {
          "base_uri": "https://localhost:8080/",
          "height": 419
        }
      },
      "source": [
        "df_tips[\"total_bill_person\"]=df_tips[\"total_bill\"]/df_tips[\"size_of_group\"]\n",
        "df_tips[\"tip_person\"] = df_tips[\"tip\"]/df_tips[\"size_of_group\"]\n",
        "df_tips[\"tip_perc\"]= df_tips[\"tip\"]/df_tips[\"total_bill\"]\n",
        "df_tips=df_tips[[\"size_of_group\",\"total_bill\",\"tip\",\"tip_perc\",\"total_bill_person\",\"tip_person\",\"sex\",\"smoker\",\"day\",\"time\"]]\n",
        "df_tips"
      ],
      "execution_count": null,
      "outputs": [
        {
          "output_type": "execute_result",
          "data": {
            "text/html": [
              "<div>\n",
              "<style scoped>\n",
              "    .dataframe tbody tr th:only-of-type {\n",
              "        vertical-align: middle;\n",
              "    }\n",
              "\n",
              "    .dataframe tbody tr th {\n",
              "        vertical-align: top;\n",
              "    }\n",
              "\n",
              "    .dataframe thead th {\n",
              "        text-align: right;\n",
              "    }\n",
              "</style>\n",
              "<table border=\"1\" class=\"dataframe\">\n",
              "  <thead>\n",
              "    <tr style=\"text-align: right;\">\n",
              "      <th></th>\n",
              "      <th>size_of_group</th>\n",
              "      <th>total_bill</th>\n",
              "      <th>tip</th>\n",
              "      <th>tip_perc</th>\n",
              "      <th>total_bill_person</th>\n",
              "      <th>tip_person</th>\n",
              "      <th>sex</th>\n",
              "      <th>smoker</th>\n",
              "      <th>day</th>\n",
              "      <th>time</th>\n",
              "    </tr>\n",
              "  </thead>\n",
              "  <tbody>\n",
              "    <tr>\n",
              "      <th>0</th>\n",
              "      <td>2</td>\n",
              "      <td>16.99</td>\n",
              "      <td>1.01</td>\n",
              "      <td>0.059447</td>\n",
              "      <td>8.495000</td>\n",
              "      <td>0.505000</td>\n",
              "      <td>Female</td>\n",
              "      <td>No</td>\n",
              "      <td>Sun</td>\n",
              "      <td>Dinner</td>\n",
              "    </tr>\n",
              "    <tr>\n",
              "      <th>1</th>\n",
              "      <td>3</td>\n",
              "      <td>10.34</td>\n",
              "      <td>1.66</td>\n",
              "      <td>0.160542</td>\n",
              "      <td>3.446667</td>\n",
              "      <td>0.553333</td>\n",
              "      <td>Male</td>\n",
              "      <td>No</td>\n",
              "      <td>Sun</td>\n",
              "      <td>Dinner</td>\n",
              "    </tr>\n",
              "    <tr>\n",
              "      <th>2</th>\n",
              "      <td>3</td>\n",
              "      <td>21.01</td>\n",
              "      <td>3.50</td>\n",
              "      <td>0.166587</td>\n",
              "      <td>7.003333</td>\n",
              "      <td>1.166667</td>\n",
              "      <td>Male</td>\n",
              "      <td>No</td>\n",
              "      <td>Sun</td>\n",
              "      <td>Dinner</td>\n",
              "    </tr>\n",
              "    <tr>\n",
              "      <th>3</th>\n",
              "      <td>2</td>\n",
              "      <td>23.68</td>\n",
              "      <td>3.31</td>\n",
              "      <td>0.139780</td>\n",
              "      <td>11.840000</td>\n",
              "      <td>1.655000</td>\n",
              "      <td>Male</td>\n",
              "      <td>No</td>\n",
              "      <td>Sun</td>\n",
              "      <td>Dinner</td>\n",
              "    </tr>\n",
              "    <tr>\n",
              "      <th>4</th>\n",
              "      <td>4</td>\n",
              "      <td>24.59</td>\n",
              "      <td>3.61</td>\n",
              "      <td>0.146808</td>\n",
              "      <td>6.147500</td>\n",
              "      <td>0.902500</td>\n",
              "      <td>Female</td>\n",
              "      <td>No</td>\n",
              "      <td>Sun</td>\n",
              "      <td>Dinner</td>\n",
              "    </tr>\n",
              "    <tr>\n",
              "      <th>...</th>\n",
              "      <td>...</td>\n",
              "      <td>...</td>\n",
              "      <td>...</td>\n",
              "      <td>...</td>\n",
              "      <td>...</td>\n",
              "      <td>...</td>\n",
              "      <td>...</td>\n",
              "      <td>...</td>\n",
              "      <td>...</td>\n",
              "      <td>...</td>\n",
              "    </tr>\n",
              "    <tr>\n",
              "      <th>239</th>\n",
              "      <td>3</td>\n",
              "      <td>29.03</td>\n",
              "      <td>5.92</td>\n",
              "      <td>0.203927</td>\n",
              "      <td>9.676667</td>\n",
              "      <td>1.973333</td>\n",
              "      <td>Male</td>\n",
              "      <td>No</td>\n",
              "      <td>Sat</td>\n",
              "      <td>Dinner</td>\n",
              "    </tr>\n",
              "    <tr>\n",
              "      <th>240</th>\n",
              "      <td>2</td>\n",
              "      <td>27.18</td>\n",
              "      <td>2.00</td>\n",
              "      <td>0.073584</td>\n",
              "      <td>13.590000</td>\n",
              "      <td>1.000000</td>\n",
              "      <td>Female</td>\n",
              "      <td>Yes</td>\n",
              "      <td>Sat</td>\n",
              "      <td>Dinner</td>\n",
              "    </tr>\n",
              "    <tr>\n",
              "      <th>241</th>\n",
              "      <td>2</td>\n",
              "      <td>22.67</td>\n",
              "      <td>2.00</td>\n",
              "      <td>0.088222</td>\n",
              "      <td>11.335000</td>\n",
              "      <td>1.000000</td>\n",
              "      <td>Male</td>\n",
              "      <td>Yes</td>\n",
              "      <td>Sat</td>\n",
              "      <td>Dinner</td>\n",
              "    </tr>\n",
              "    <tr>\n",
              "      <th>242</th>\n",
              "      <td>2</td>\n",
              "      <td>17.82</td>\n",
              "      <td>1.75</td>\n",
              "      <td>0.098204</td>\n",
              "      <td>8.910000</td>\n",
              "      <td>0.875000</td>\n",
              "      <td>Male</td>\n",
              "      <td>No</td>\n",
              "      <td>Sat</td>\n",
              "      <td>Dinner</td>\n",
              "    </tr>\n",
              "    <tr>\n",
              "      <th>243</th>\n",
              "      <td>2</td>\n",
              "      <td>18.78</td>\n",
              "      <td>3.00</td>\n",
              "      <td>0.159744</td>\n",
              "      <td>9.390000</td>\n",
              "      <td>1.500000</td>\n",
              "      <td>Female</td>\n",
              "      <td>No</td>\n",
              "      <td>Thur</td>\n",
              "      <td>Dinner</td>\n",
              "    </tr>\n",
              "  </tbody>\n",
              "</table>\n",
              "<p>244 rows × 10 columns</p>\n",
              "</div>"
            ],
            "text/plain": [
              "     size_of_group  total_bill   tip  tip_perc  ...     sex  smoker   day    time\n",
              "0                2       16.99  1.01  0.059447  ...  Female      No   Sun  Dinner\n",
              "1                3       10.34  1.66  0.160542  ...    Male      No   Sun  Dinner\n",
              "2                3       21.01  3.50  0.166587  ...    Male      No   Sun  Dinner\n",
              "3                2       23.68  3.31  0.139780  ...    Male      No   Sun  Dinner\n",
              "4                4       24.59  3.61  0.146808  ...  Female      No   Sun  Dinner\n",
              "..             ...         ...   ...       ...  ...     ...     ...   ...     ...\n",
              "239              3       29.03  5.92  0.203927  ...    Male      No   Sat  Dinner\n",
              "240              2       27.18  2.00  0.073584  ...  Female     Yes   Sat  Dinner\n",
              "241              2       22.67  2.00  0.088222  ...    Male     Yes   Sat  Dinner\n",
              "242              2       17.82  1.75  0.098204  ...    Male      No   Sat  Dinner\n",
              "243              2       18.78  3.00  0.159744  ...  Female      No  Thur  Dinner\n",
              "\n",
              "[244 rows x 10 columns]"
            ]
          },
          "metadata": {
            "tags": []
          },
          "execution_count": 39
        }
      ]
    },
    {
      "cell_type": "markdown",
      "metadata": {
        "id": "a_4zuyHrqspa"
      },
      "source": [
        ""
      ]
    },
    {
      "cell_type": "code",
      "metadata": {
        "id": "Hq3xiuSRqxs0",
        "outputId": "9a32ba38-0587-4a76-81f2-15bddac4752c",
        "colab": {
          "base_uri": "https://localhost:8080/",
          "height": 297
        }
      },
      "source": [
        "df_tips.describe()"
      ],
      "execution_count": null,
      "outputs": [
        {
          "output_type": "execute_result",
          "data": {
            "text/html": [
              "<div>\n",
              "<style scoped>\n",
              "    .dataframe tbody tr th:only-of-type {\n",
              "        vertical-align: middle;\n",
              "    }\n",
              "\n",
              "    .dataframe tbody tr th {\n",
              "        vertical-align: top;\n",
              "    }\n",
              "\n",
              "    .dataframe thead th {\n",
              "        text-align: right;\n",
              "    }\n",
              "</style>\n",
              "<table border=\"1\" class=\"dataframe\">\n",
              "  <thead>\n",
              "    <tr style=\"text-align: right;\">\n",
              "      <th></th>\n",
              "      <th>size_of_group</th>\n",
              "      <th>total_bill</th>\n",
              "      <th>tip</th>\n",
              "      <th>tip_perc</th>\n",
              "      <th>total_bill_person</th>\n",
              "      <th>tip_person</th>\n",
              "    </tr>\n",
              "  </thead>\n",
              "  <tbody>\n",
              "    <tr>\n",
              "      <th>count</th>\n",
              "      <td>244.000000</td>\n",
              "      <td>244.000000</td>\n",
              "      <td>244.000000</td>\n",
              "      <td>244.000000</td>\n",
              "      <td>244.00000</td>\n",
              "      <td>244.000000</td>\n",
              "    </tr>\n",
              "    <tr>\n",
              "      <th>mean</th>\n",
              "      <td>2.569672</td>\n",
              "      <td>19.785943</td>\n",
              "      <td>2.998279</td>\n",
              "      <td>0.160803</td>\n",
              "      <td>7.88823</td>\n",
              "      <td>1.212762</td>\n",
              "    </tr>\n",
              "    <tr>\n",
              "      <th>std</th>\n",
              "      <td>0.951100</td>\n",
              "      <td>8.902412</td>\n",
              "      <td>1.383638</td>\n",
              "      <td>0.061072</td>\n",
              "      <td>2.91435</td>\n",
              "      <td>0.491705</td>\n",
              "    </tr>\n",
              "    <tr>\n",
              "      <th>min</th>\n",
              "      <td>1.000000</td>\n",
              "      <td>3.070000</td>\n",
              "      <td>1.000000</td>\n",
              "      <td>0.035638</td>\n",
              "      <td>2.87500</td>\n",
              "      <td>0.400000</td>\n",
              "    </tr>\n",
              "    <tr>\n",
              "      <th>25%</th>\n",
              "      <td>2.000000</td>\n",
              "      <td>13.347500</td>\n",
              "      <td>2.000000</td>\n",
              "      <td>0.129127</td>\n",
              "      <td>5.80250</td>\n",
              "      <td>0.862500</td>\n",
              "    </tr>\n",
              "    <tr>\n",
              "      <th>50%</th>\n",
              "      <td>2.000000</td>\n",
              "      <td>17.795000</td>\n",
              "      <td>2.900000</td>\n",
              "      <td>0.154770</td>\n",
              "      <td>7.25500</td>\n",
              "      <td>1.107500</td>\n",
              "    </tr>\n",
              "    <tr>\n",
              "      <th>75%</th>\n",
              "      <td>3.000000</td>\n",
              "      <td>24.127500</td>\n",
              "      <td>3.562500</td>\n",
              "      <td>0.191475</td>\n",
              "      <td>9.39000</td>\n",
              "      <td>1.500000</td>\n",
              "    </tr>\n",
              "    <tr>\n",
              "      <th>max</th>\n",
              "      <td>6.000000</td>\n",
              "      <td>50.810000</td>\n",
              "      <td>10.000000</td>\n",
              "      <td>0.710345</td>\n",
              "      <td>20.27500</td>\n",
              "      <td>3.333333</td>\n",
              "    </tr>\n",
              "  </tbody>\n",
              "</table>\n",
              "</div>"
            ],
            "text/plain": [
              "       size_of_group  total_bill  ...  total_bill_person  tip_person\n",
              "count     244.000000  244.000000  ...          244.00000  244.000000\n",
              "mean        2.569672   19.785943  ...            7.88823    1.212762\n",
              "std         0.951100    8.902412  ...            2.91435    0.491705\n",
              "min         1.000000    3.070000  ...            2.87500    0.400000\n",
              "25%         2.000000   13.347500  ...            5.80250    0.862500\n",
              "50%         2.000000   17.795000  ...            7.25500    1.107500\n",
              "75%         3.000000   24.127500  ...            9.39000    1.500000\n",
              "max         6.000000   50.810000  ...           20.27500    3.333333\n",
              "\n",
              "[8 rows x 6 columns]"
            ]
          },
          "metadata": {
            "tags": []
          },
          "execution_count": 40
        }
      ]
    },
    {
      "cell_type": "markdown",
      "metadata": {
        "id": "6hHK_w9ArBph"
      },
      "source": [
        "### Relação tipos pessoa / pagamento"
      ]
    },
    {
      "cell_type": "code",
      "metadata": {
        "id": "pCoDpAd6rEvI",
        "outputId": "9d3f30f7-4bb6-4c53-cc35-c62e0faf33b3",
        "colab": {
          "base_uri": "https://localhost:8080/",
          "height": 304
        }
      },
      "source": [
        "#copiei esse do código do modelo do nicholas\n",
        "\n",
        "fig, ax = plt.subplots()\n",
        "\n",
        "# o parâmetro \"c\" define a variável da colorbar\n",
        "cbar = ax.scatter(df_tips['tip'], (df_tips['total_bill']),  c=df_tips['size_of_group'], cmap=plt.cm.coolwarm)\n",
        "\n",
        "\n",
        "#Cria o titulo com o tamanho da fonte desejada\n",
        "ax.set_title('tip X total_bill X size', fontsize=14)\n",
        "\n",
        "#Cria a legenda para os eixos\n",
        "ax.set_ylabel('total_bill', fontsize=16)\n",
        "ax.set_xlabel('tip', fontsize=16)\n",
        "\n",
        "#Cria Legenda para o color bar\n",
        "label_bar = plt.colorbar(cbar)\n",
        "label_bar.set_label('size_of_group',fontsize=14)\n",
        "\n",
        "\n",
        "plt.show()"
      ],
      "execution_count": null,
      "outputs": [
        {
          "output_type": "display_data",
          "data": {
            "image/png": "[encoded data removed]",
            "text/plain": [
              "<Figure size 432x288 with 2 Axes>"
            ]
          },
          "metadata": {
            "tags": []
          }
        }
      ]
    },
    {
      "cell_type": "markdown",
      "metadata": {
        "id": "NNbKZJzhsV5N"
      },
      "source": [
        "###"
      ]
    },
    {
      "cell_type": "code",
      "metadata": {
        "id": "FhI_AhuBpj-r"
      },
      "source": [
        "#df_tips.groupby(['day']).mean()\n",
        "#df_tips.groupby(['time']).mean()\n",
        "#df_tips.groupby(['day','time']).count()\n",
        "#df_tips.groupby(['day','time']).mean()\n",
        "#df_tips.groupby(['day','time']).sum()"
      ],
      "execution_count": null,
      "outputs": []
    },
    {
      "cell_type": "code",
      "metadata": {
        "id": "a3x-G_BTj327"
      },
      "source": [
        ""
      ],
      "execution_count": null,
      "outputs": []
    },
    {
      "cell_type": "code",
      "metadata": {
        "id": "tpscd7GUkzV1",
        "outputId": "65b8dc8b-52ca-4e82-e4ed-dc60506dd3b5",
        "colab": {
          "base_uri": "https://localhost:8080/",
          "height": 353
        }
      },
      "source": [
        "sns.heatmap(df_tips.corr(), annot=True)\n",
        "plt.show()"
      ],
      "execution_count": null,
      "outputs": [
        {
          "output_type": "display_data",
          "data": {
            "image/png": "[encoded data removed]",
            "text/plain": [
              "<Figure size 432x288 with 2 Axes>"
            ]
          },
          "metadata": {
            "tags": []
          }
        }
      ]
    },
    {
      "cell_type": "code",
      "metadata": {
        "id": "gP2ajNRXyMEv",
        "outputId": "d75cc63b-1a6f-45e9-c752-c0e0f026bafe",
        "colab": {
          "base_uri": "https://localhost:8080/",
          "height": 142
        }
      },
      "source": [
        "df_tips[\"total_bill_person\"]=df_tips[\"total_bill\"]/df_tips[\"size_of_group\"]\n",
        "df_tips[\"tip_person\"] = df_tips[\"tip\"]/df_tips[\"size_of_group\"]\n",
        "df_tips[\"tip_perc\"]= df_tips[\"tip\"]/df_tips[\"total_bill\"]\n",
        "df_tips=df_tips[[\"size_of_group\",\"total_bill\",\"tip\",\"tip_perc\",\"total_bill_person\",\"tip_person\",\"sex\",\"smoker\",\"day\",\"time\"]]\n",
        "df_tips.head(3)"
      ],
      "execution_count": null,
      "outputs": [
        {
          "output_type": "execute_result",
          "data": {
            "text/html": [
              "<div>\n",
              "<style scoped>\n",
              "    .dataframe tbody tr th:only-of-type {\n",
              "        vertical-align: middle;\n",
              "    }\n",
              "\n",
              "    .dataframe tbody tr th {\n",
              "        vertical-align: top;\n",
              "    }\n",
              "\n",
              "    .dataframe thead th {\n",
              "        text-align: right;\n",
              "    }\n",
              "</style>\n",
              "<table border=\"1\" class=\"dataframe\">\n",
              "  <thead>\n",
              "    <tr style=\"text-align: right;\">\n",
              "      <th></th>\n",
              "      <th>size_of_group</th>\n",
              "      <th>total_bill</th>\n",
              "      <th>tip</th>\n",
              "      <th>tip_perc</th>\n",
              "      <th>total_bill_person</th>\n",
              "      <th>tip_person</th>\n",
              "      <th>sex</th>\n",
              "      <th>smoker</th>\n",
              "      <th>day</th>\n",
              "      <th>time</th>\n",
              "    </tr>\n",
              "  </thead>\n",
              "  <tbody>\n",
              "    <tr>\n",
              "      <th>0</th>\n",
              "      <td>2</td>\n",
              "      <td>16.99</td>\n",
              "      <td>1.01</td>\n",
              "      <td>0.059447</td>\n",
              "      <td>8.495000</td>\n",
              "      <td>0.505000</td>\n",
              "      <td>Female</td>\n",
              "      <td>No</td>\n",
              "      <td>Sun</td>\n",
              "      <td>Dinner</td>\n",
              "    </tr>\n",
              "    <tr>\n",
              "      <th>1</th>\n",
              "      <td>3</td>\n",
              "      <td>10.34</td>\n",
              "      <td>1.66</td>\n",
              "      <td>0.160542</td>\n",
              "      <td>3.446667</td>\n",
              "      <td>0.553333</td>\n",
              "      <td>Male</td>\n",
              "      <td>No</td>\n",
              "      <td>Sun</td>\n",
              "      <td>Dinner</td>\n",
              "    </tr>\n",
              "    <tr>\n",
              "      <th>2</th>\n",
              "      <td>3</td>\n",
              "      <td>21.01</td>\n",
              "      <td>3.50</td>\n",
              "      <td>0.166587</td>\n",
              "      <td>7.003333</td>\n",
              "      <td>1.166667</td>\n",
              "      <td>Male</td>\n",
              "      <td>No</td>\n",
              "      <td>Sun</td>\n",
              "      <td>Dinner</td>\n",
              "    </tr>\n",
              "  </tbody>\n",
              "</table>\n",
              "</div>"
            ],
            "text/plain": [
              "   size_of_group  total_bill   tip  tip_perc  ...     sex  smoker  day    time\n",
              "0              2       16.99  1.01  0.059447  ...  Female      No  Sun  Dinner\n",
              "1              3       10.34  1.66  0.160542  ...    Male      No  Sun  Dinner\n",
              "2              3       21.01  3.50  0.166587  ...    Male      No  Sun  Dinner\n",
              "\n",
              "[3 rows x 10 columns]"
            ]
          },
          "metadata": {
            "tags": []
          },
          "execution_count": 45
        }
      ]
    },
    {
      "cell_type": "code",
      "metadata": {
        "id": "LIgslEox0bUY",
        "outputId": "e137ecaf-b744-4e20-a099-f0c45c009b5c",
        "colab": {
          "base_uri": "https://localhost:8080/",
          "height": 235
        }
      },
      "source": [
        "df_tips.corr()"
      ],
      "execution_count": null,
      "outputs": [
        {
          "output_type": "execute_result",
          "data": {
            "text/html": [
              "<div>\n",
              "<style scoped>\n",
              "    .dataframe tbody tr th:only-of-type {\n",
              "        vertical-align: middle;\n",
              "    }\n",
              "\n",
              "    .dataframe tbody tr th {\n",
              "        vertical-align: top;\n",
              "    }\n",
              "\n",
              "    .dataframe thead th {\n",
              "        text-align: right;\n",
              "    }\n",
              "</style>\n",
              "<table border=\"1\" class=\"dataframe\">\n",
              "  <thead>\n",
              "    <tr style=\"text-align: right;\">\n",
              "      <th></th>\n",
              "      <th>size_of_group</th>\n",
              "      <th>total_bill</th>\n",
              "      <th>tip</th>\n",
              "      <th>tip_perc</th>\n",
              "      <th>total_bill_person</th>\n",
              "      <th>tip_person</th>\n",
              "    </tr>\n",
              "  </thead>\n",
              "  <tbody>\n",
              "    <tr>\n",
              "      <th>size_of_group</th>\n",
              "      <td>1.000000</td>\n",
              "      <td>0.598315</td>\n",
              "      <td>0.489299</td>\n",
              "      <td>-0.142860</td>\n",
              "      <td>-0.175412</td>\n",
              "      <td>-0.253618</td>\n",
              "    </tr>\n",
              "    <tr>\n",
              "      <th>total_bill</th>\n",
              "      <td>0.598315</td>\n",
              "      <td>1.000000</td>\n",
              "      <td>0.675734</td>\n",
              "      <td>-0.338624</td>\n",
              "      <td>0.647497</td>\n",
              "      <td>0.240988</td>\n",
              "    </tr>\n",
              "    <tr>\n",
              "      <th>tip</th>\n",
              "      <td>0.489299</td>\n",
              "      <td>0.675734</td>\n",
              "      <td>1.000000</td>\n",
              "      <td>0.342370</td>\n",
              "      <td>0.347393</td>\n",
              "      <td>0.677494</td>\n",
              "    </tr>\n",
              "    <tr>\n",
              "      <th>tip_perc</th>\n",
              "      <td>-0.142860</td>\n",
              "      <td>-0.338624</td>\n",
              "      <td>0.342370</td>\n",
              "      <td>1.000000</td>\n",
              "      <td>-0.314156</td>\n",
              "      <td>0.526801</td>\n",
              "    </tr>\n",
              "    <tr>\n",
              "      <th>total_bill_person</th>\n",
              "      <td>-0.175412</td>\n",
              "      <td>0.647497</td>\n",
              "      <td>0.347393</td>\n",
              "      <td>-0.314156</td>\n",
              "      <td>1.000000</td>\n",
              "      <td>0.537820</td>\n",
              "    </tr>\n",
              "    <tr>\n",
              "      <th>tip_person</th>\n",
              "      <td>-0.253618</td>\n",
              "      <td>0.240988</td>\n",
              "      <td>0.677494</td>\n",
              "      <td>0.526801</td>\n",
              "      <td>0.537820</td>\n",
              "      <td>1.000000</td>\n",
              "    </tr>\n",
              "  </tbody>\n",
              "</table>\n",
              "</div>"
            ],
            "text/plain": [
              "                   size_of_group  total_bill  ...  total_bill_person  tip_person\n",
              "size_of_group           1.000000    0.598315  ...          -0.175412   -0.253618\n",
              "total_bill              0.598315    1.000000  ...           0.647497    0.240988\n",
              "tip                     0.489299    0.675734  ...           0.347393    0.677494\n",
              "tip_perc               -0.142860   -0.338624  ...          -0.314156    0.526801\n",
              "total_bill_person      -0.175412    0.647497  ...           1.000000    0.537820\n",
              "tip_person             -0.253618    0.240988  ...           0.537820    1.000000\n",
              "\n",
              "[6 rows x 6 columns]"
            ]
          },
          "metadata": {
            "tags": []
          },
          "execution_count": 46
        }
      ]
    },
    {
      "cell_type": "code",
      "metadata": {
        "id": "vUPtgPLx3HMY",
        "outputId": "b4e713b9-a0f2-4639-f0ee-0b60d75d94f1",
        "colab": {
          "base_uri": "https://localhost:8080/",
          "height": 353
        }
      },
      "source": [
        "mask  =  np.triu ( np.ones (df_tips.corr().shape , dtype  =  bool ))\n",
        "sns.heatmap(df_tips.corr(), annot=True, mask  =  mask , annot_kws={\"size\": 10} ,cmap=\"viridis\",linewidths=5, vmin=-1, vmax=1)\n",
        "plt.show()"
      ],
      "execution_count": null,
      "outputs": [
        {
          "output_type": "display_data",
          "data": {
            "image/png": "[encoded data removed]",
            "text/plain": [
              "<Figure size 432x288 with 2 Axes>"
            ]
          },
          "metadata": {
            "tags": []
          }
        }
      ]
    },
    {
      "cell_type": "code",
      "metadata": {
        "id": "fo7mqJPKtylf",
        "outputId": "8c15bf9b-b47a-4b40-e579-c3e667335d30",
        "colab": {
          "base_uri": "https://localhost:8080/",
          "height": 204
        }
      },
      "source": [
        "df_tips.head()"
      ],
      "execution_count": null,
      "outputs": [
        {
          "output_type": "execute_result",
          "data": {
            "text/html": [
              "<div>\n",
              "<style scoped>\n",
              "    .dataframe tbody tr th:only-of-type {\n",
              "        vertical-align: middle;\n",
              "    }\n",
              "\n",
              "    .dataframe tbody tr th {\n",
              "        vertical-align: top;\n",
              "    }\n",
              "\n",
              "    .dataframe thead th {\n",
              "        text-align: right;\n",
              "    }\n",
              "</style>\n",
              "<table border=\"1\" class=\"dataframe\">\n",
              "  <thead>\n",
              "    <tr style=\"text-align: right;\">\n",
              "      <th></th>\n",
              "      <th>size_of_group</th>\n",
              "      <th>total_bill</th>\n",
              "      <th>tip</th>\n",
              "      <th>tip_perc</th>\n",
              "      <th>total_bill_person</th>\n",
              "      <th>tip_person</th>\n",
              "      <th>sex</th>\n",
              "      <th>smoker</th>\n",
              "      <th>day</th>\n",
              "      <th>time</th>\n",
              "    </tr>\n",
              "  </thead>\n",
              "  <tbody>\n",
              "    <tr>\n",
              "      <th>0</th>\n",
              "      <td>2</td>\n",
              "      <td>16.99</td>\n",
              "      <td>1.01</td>\n",
              "      <td>0.059447</td>\n",
              "      <td>8.495000</td>\n",
              "      <td>0.505000</td>\n",
              "      <td>Female</td>\n",
              "      <td>No</td>\n",
              "      <td>Sun</td>\n",
              "      <td>Dinner</td>\n",
              "    </tr>\n",
              "    <tr>\n",
              "      <th>1</th>\n",
              "      <td>3</td>\n",
              "      <td>10.34</td>\n",
              "      <td>1.66</td>\n",
              "      <td>0.160542</td>\n",
              "      <td>3.446667</td>\n",
              "      <td>0.553333</td>\n",
              "      <td>Male</td>\n",
              "      <td>No</td>\n",
              "      <td>Sun</td>\n",
              "      <td>Dinner</td>\n",
              "    </tr>\n",
              "    <tr>\n",
              "      <th>2</th>\n",
              "      <td>3</td>\n",
              "      <td>21.01</td>\n",
              "      <td>3.50</td>\n",
              "      <td>0.166587</td>\n",
              "      <td>7.003333</td>\n",
              "      <td>1.166667</td>\n",
              "      <td>Male</td>\n",
              "      <td>No</td>\n",
              "      <td>Sun</td>\n",
              "      <td>Dinner</td>\n",
              "    </tr>\n",
              "    <tr>\n",
              "      <th>3</th>\n",
              "      <td>2</td>\n",
              "      <td>23.68</td>\n",
              "      <td>3.31</td>\n",
              "      <td>0.139780</td>\n",
              "      <td>11.840000</td>\n",
              "      <td>1.655000</td>\n",
              "      <td>Male</td>\n",
              "      <td>No</td>\n",
              "      <td>Sun</td>\n",
              "      <td>Dinner</td>\n",
              "    </tr>\n",
              "    <tr>\n",
              "      <th>4</th>\n",
              "      <td>4</td>\n",
              "      <td>24.59</td>\n",
              "      <td>3.61</td>\n",
              "      <td>0.146808</td>\n",
              "      <td>6.147500</td>\n",
              "      <td>0.902500</td>\n",
              "      <td>Female</td>\n",
              "      <td>No</td>\n",
              "      <td>Sun</td>\n",
              "      <td>Dinner</td>\n",
              "    </tr>\n",
              "  </tbody>\n",
              "</table>\n",
              "</div>"
            ],
            "text/plain": [
              "   size_of_group  total_bill   tip  tip_perc  ...     sex  smoker  day    time\n",
              "0              2       16.99  1.01  0.059447  ...  Female      No  Sun  Dinner\n",
              "1              3       10.34  1.66  0.160542  ...    Male      No  Sun  Dinner\n",
              "2              3       21.01  3.50  0.166587  ...    Male      No  Sun  Dinner\n",
              "3              2       23.68  3.31  0.139780  ...    Male      No  Sun  Dinner\n",
              "4              4       24.59  3.61  0.146808  ...  Female      No  Sun  Dinner\n",
              "\n",
              "[5 rows x 10 columns]"
            ]
          },
          "metadata": {
            "tags": []
          },
          "execution_count": 50
        }
      ]
    },
    {
      "cell_type": "markdown",
      "metadata": {
        "id": "pQ-b15-Ok2Pp"
      },
      "source": [
        "Kluster"
      ]
    },
    {
      "cell_type": "code",
      "metadata": {
        "id": "sxg1Dlq0k3jP"
      },
      "source": [
        ""
      ],
      "execution_count": null,
      "outputs": []
    }
  ]
}