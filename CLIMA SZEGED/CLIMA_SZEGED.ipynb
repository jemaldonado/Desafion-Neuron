{
  "nbformat": 4,
  "nbformat_minor": 0,
  "metadata": {
    "colab": {
      "name": "CLIMA SZEGED.ipynb",
      "provenance": [],
      "collapsed_sections": [],
      "include_colab_link": true
    },
    "kernelspec": {
      "name": "python3",
      "display_name": "Python 3"
    }
  },
  "cells": [
    {
      "cell_type": "markdown",
      "metadata": {
        "id": "view-in-github",
        "colab_type": "text"
      },
      "source": [
        "<a href=\"https://colab.research.google.com/github/jemaldonado/Desafion-Neuron/blob/master/CLIMA%20SZEGED/CLIMA_SZEGED.ipynb\" target=\"_parent\"><img src=\"https://colab.research.google.com/assets/colab-badge.svg\" alt=\"Open In Colab\"/></a>"
      ]
    },
    {
      "cell_type": "code",
      "metadata": {
        "id": "t7xCw9sOlkId",
        "outputId": "42bf845c-e282-4b35-f385-9b21ce245bd8",
        "colab": {
          "base_uri": "https://localhost:8080/",
          "height": 71
        }
      },
      "source": [
        "import pandas as pd\n",
        "from sklearn.model_selection import train_test_split\n",
        "from sklearn.linear_model import LinearRegression\n",
        "from sklearn.metrics import mean_squared_error, r2_score\n",
        "import seaborn as sns\n",
        "import numpy as np\n",
        "np.random.seed(1234)"
      ],
      "execution_count": null,
      "outputs": [
        {
          "output_type": "stream",
          "text": [
            "/usr/local/lib/python3.6/dist-packages/statsmodels/tools/_testing.py:19: FutureWarning: pandas.util.testing is deprecated. Use the functions in the public API at pandas.testing instead.\n",
            "  import pandas.util.testing as tm\n"
          ],
          "name": "stderr"
        }
      ]
    },
    {
      "cell_type": "code",
      "metadata": {
        "id": "YXibnM0_lsbv"
      },
      "source": [
        "train =  pd.read_excel('https://github.com/jemaldonado/Desafion-Neuron/blob/master/CLIMA%20SZEGED/weather_szeged_train.xlsx?raw=true')\n",
        "test = pd.read_excel('https://github.com/jemaldonado/Desafion-Neuron/blob/master/CLIMA%20SZEGED/weather_szeged_test.xlsx?raw=true')"
      ],
      "execution_count": null,
      "outputs": []
    },
    {
      "cell_type": "code",
      "metadata": {
        "id": "uUxfz2-fmGAA",
        "outputId": "46d0e536-d9b3-4bb4-d8bd-62bc96d58b31",
        "colab": {
          "base_uri": "https://localhost:8080/",
          "height": 257
        }
      },
      "source": [
        "train.head()"
      ],
      "execution_count": null,
      "outputs": [
        {
          "output_type": "execute_result",
          "data": {
            "text/html": [
              "<div>\n",
              "<style scoped>\n",
              "    .dataframe tbody tr th:only-of-type {\n",
              "        vertical-align: middle;\n",
              "    }\n",
              "\n",
              "    .dataframe tbody tr th {\n",
              "        vertical-align: top;\n",
              "    }\n",
              "\n",
              "    .dataframe thead th {\n",
              "        text-align: right;\n",
              "    }\n",
              "</style>\n",
              "<table border=\"1\" class=\"dataframe\">\n",
              "  <thead>\n",
              "    <tr style=\"text-align: right;\">\n",
              "      <th></th>\n",
              "      <th>Temperature (C)</th>\n",
              "      <th>Apparent Temperature (C)</th>\n",
              "      <th>Humidity</th>\n",
              "      <th>Wind Speed (km/h)</th>\n",
              "      <th>Visibility (km)</th>\n",
              "      <th>Pressure (millibars)</th>\n",
              "    </tr>\n",
              "  </thead>\n",
              "  <tbody>\n",
              "    <tr>\n",
              "      <th>0</th>\n",
              "      <td>19.400000</td>\n",
              "      <td>19.400000</td>\n",
              "      <td>0.93</td>\n",
              "      <td>6.2790</td>\n",
              "      <td>14.7315</td>\n",
              "      <td>1018.23</td>\n",
              "    </tr>\n",
              "    <tr>\n",
              "      <th>1</th>\n",
              "      <td>4.950000</td>\n",
              "      <td>3.122222</td>\n",
              "      <td>1.00</td>\n",
              "      <td>7.8890</td>\n",
              "      <td>5.8926</td>\n",
              "      <td>1000.86</td>\n",
              "    </tr>\n",
              "    <tr>\n",
              "      <th>2</th>\n",
              "      <td>22.661111</td>\n",
              "      <td>22.661111</td>\n",
              "      <td>0.38</td>\n",
              "      <td>13.9426</td>\n",
              "      <td>16.0517</td>\n",
              "      <td>1022.64</td>\n",
              "    </tr>\n",
              "    <tr>\n",
              "      <th>3</th>\n",
              "      <td>17.044444</td>\n",
              "      <td>17.044444</td>\n",
              "      <td>0.81</td>\n",
              "      <td>12.9766</td>\n",
              "      <td>14.9569</td>\n",
              "      <td>1008.99</td>\n",
              "    </tr>\n",
              "    <tr>\n",
              "      <th>4</th>\n",
              "      <td>1.061111</td>\n",
              "      <td>-4.494444</td>\n",
              "      <td>0.56</td>\n",
              "      <td>24.7779</td>\n",
              "      <td>15.8263</td>\n",
              "      <td>1013.73</td>\n",
              "    </tr>\n",
              "  </tbody>\n",
              "</table>\n",
              "</div>"
            ],
            "text/plain": [
              "   Temperature (C)  ...  Pressure (millibars)\n",
              "0        19.400000  ...               1018.23\n",
              "1         4.950000  ...               1000.86\n",
              "2        22.661111  ...               1022.64\n",
              "3        17.044444  ...               1008.99\n",
              "4         1.061111  ...               1013.73\n",
              "\n",
              "[5 rows x 6 columns]"
            ]
          },
          "metadata": {
            "tags": []
          },
          "execution_count": 3
        }
      ]
    },
    {
      "cell_type": "code",
      "metadata": {
        "id": "VopifMUcmHSN",
        "outputId": "5f7da19a-d047-4daa-cc02-19e1e8423611",
        "colab": {
          "base_uri": "https://localhost:8080/",
          "height": 257
        }
      },
      "source": [
        "test.head()"
      ],
      "execution_count": null,
      "outputs": [
        {
          "output_type": "execute_result",
          "data": {
            "text/html": [
              "<div>\n",
              "<style scoped>\n",
              "    .dataframe tbody tr th:only-of-type {\n",
              "        vertical-align: middle;\n",
              "    }\n",
              "\n",
              "    .dataframe tbody tr th {\n",
              "        vertical-align: top;\n",
              "    }\n",
              "\n",
              "    .dataframe thead th {\n",
              "        text-align: right;\n",
              "    }\n",
              "</style>\n",
              "<table border=\"1\" class=\"dataframe\">\n",
              "  <thead>\n",
              "    <tr style=\"text-align: right;\">\n",
              "      <th></th>\n",
              "      <th>Apparent Temperature (C)</th>\n",
              "      <th>Humidity</th>\n",
              "      <th>Wind Speed (km/h)</th>\n",
              "      <th>Visibility (km)</th>\n",
              "      <th>Pressure (millibars)</th>\n",
              "    </tr>\n",
              "  </thead>\n",
              "  <tbody>\n",
              "    <tr>\n",
              "      <th>0</th>\n",
              "      <td>17.294444</td>\n",
              "      <td>0.93</td>\n",
              "      <td>6.2468</td>\n",
              "      <td>14.9086</td>\n",
              "      <td>1022.12</td>\n",
              "    </tr>\n",
              "    <tr>\n",
              "      <th>1</th>\n",
              "      <td>-2.688889</td>\n",
              "      <td>0.84</td>\n",
              "      <td>4.5241</td>\n",
              "      <td>10.9480</td>\n",
              "      <td>1035.56</td>\n",
              "    </tr>\n",
              "    <tr>\n",
              "      <th>2</th>\n",
              "      <td>1.733333</td>\n",
              "      <td>0.96</td>\n",
              "      <td>3.9928</td>\n",
              "      <td>8.1788</td>\n",
              "      <td>1032.10</td>\n",
              "    </tr>\n",
              "    <tr>\n",
              "      <th>3</th>\n",
              "      <td>7.733333</td>\n",
              "      <td>0.93</td>\n",
              "      <td>3.2200</td>\n",
              "      <td>14.6349</td>\n",
              "      <td>1029.22</td>\n",
              "    </tr>\n",
              "    <tr>\n",
              "      <th>4</th>\n",
              "      <td>-3.983333</td>\n",
              "      <td>0.90</td>\n",
              "      <td>14.3934</td>\n",
              "      <td>4.0572</td>\n",
              "      <td>1018.44</td>\n",
              "    </tr>\n",
              "  </tbody>\n",
              "</table>\n",
              "</div>"
            ],
            "text/plain": [
              "   Apparent Temperature (C)  Humidity  ...  Visibility (km)  Pressure (millibars)\n",
              "0                 17.294444      0.93  ...          14.9086               1022.12\n",
              "1                 -2.688889      0.84  ...          10.9480               1035.56\n",
              "2                  1.733333      0.96  ...           8.1788               1032.10\n",
              "3                  7.733333      0.93  ...          14.6349               1029.22\n",
              "4                 -3.983333      0.90  ...           4.0572               1018.44\n",
              "\n",
              "[5 rows x 5 columns]"
            ]
          },
          "metadata": {
            "tags": []
          },
          "execution_count": 4
        }
      ]
    },
    {
      "cell_type": "code",
      "metadata": {
        "id": "RrAjuqDemIGe",
        "outputId": "58e1b37c-3f6e-49ec-ca99-de70b5b48879",
        "colab": {
          "base_uri": "https://localhost:8080/",
          "height": 34
        }
      },
      "source": [
        "train.shape"
      ],
      "execution_count": null,
      "outputs": [
        {
          "output_type": "execute_result",
          "data": {
            "text/plain": [
              "(998, 6)"
            ]
          },
          "metadata": {
            "tags": []
          },
          "execution_count": 5
        }
      ]
    },
    {
      "cell_type": "code",
      "metadata": {
        "id": "M_0uzOWsHM_k",
        "outputId": "af7c6ae3-f17b-4b27-8aa0-915b99cc55ad",
        "colab": {
          "base_uri": "https://localhost:8080/",
          "height": 34
        }
      },
      "source": [
        "test.shape"
      ],
      "execution_count": null,
      "outputs": [
        {
          "output_type": "execute_result",
          "data": {
            "text/plain": [
              "(538, 5)"
            ]
          },
          "metadata": {
            "tags": []
          },
          "execution_count": 6
        }
      ]
    },
    {
      "cell_type": "code",
      "metadata": {
        "id": "68ylvLuwHNtT",
        "outputId": "5925e680-2e04-4d3a-89cc-3809cf9d5475",
        "colab": {
          "base_uri": "https://localhost:8080/",
          "height": 350
        }
      },
      "source": [
        "train.describe()"
      ],
      "execution_count": null,
      "outputs": [
        {
          "output_type": "execute_result",
          "data": {
            "text/html": [
              "<div>\n",
              "<style scoped>\n",
              "    .dataframe tbody tr th:only-of-type {\n",
              "        vertical-align: middle;\n",
              "    }\n",
              "\n",
              "    .dataframe tbody tr th {\n",
              "        vertical-align: top;\n",
              "    }\n",
              "\n",
              "    .dataframe thead th {\n",
              "        text-align: right;\n",
              "    }\n",
              "</style>\n",
              "<table border=\"1\" class=\"dataframe\">\n",
              "  <thead>\n",
              "    <tr style=\"text-align: right;\">\n",
              "      <th></th>\n",
              "      <th>Temperature (C)</th>\n",
              "      <th>Apparent Temperature (C)</th>\n",
              "      <th>Humidity</th>\n",
              "      <th>Wind Speed (km/h)</th>\n",
              "      <th>Visibility (km)</th>\n",
              "      <th>Pressure (millibars)</th>\n",
              "    </tr>\n",
              "  </thead>\n",
              "  <tbody>\n",
              "    <tr>\n",
              "      <th>count</th>\n",
              "      <td>998.000000</td>\n",
              "      <td>998.000000</td>\n",
              "      <td>998.000000</td>\n",
              "      <td>998.000000</td>\n",
              "      <td>998.000000</td>\n",
              "      <td>998.00000</td>\n",
              "    </tr>\n",
              "    <tr>\n",
              "      <th>mean</th>\n",
              "      <td>10.978084</td>\n",
              "      <td>9.908962</td>\n",
              "      <td>0.773317</td>\n",
              "      <td>10.299289</td>\n",
              "      <td>9.739774</td>\n",
              "      <td>999.05508</td>\n",
              "    </tr>\n",
              "    <tr>\n",
              "      <th>std</th>\n",
              "      <td>9.367005</td>\n",
              "      <td>10.594406</td>\n",
              "      <td>0.170484</td>\n",
              "      <td>6.747872</td>\n",
              "      <td>4.016944</td>\n",
              "      <td>139.47797</td>\n",
              "    </tr>\n",
              "    <tr>\n",
              "      <th>min</th>\n",
              "      <td>-14.022222</td>\n",
              "      <td>-19.961111</td>\n",
              "      <td>0.290000</td>\n",
              "      <td>0.000000</td>\n",
              "      <td>0.000000</td>\n",
              "      <td>0.00000</td>\n",
              "    </tr>\n",
              "    <tr>\n",
              "      <th>25%</th>\n",
              "      <td>2.800000</td>\n",
              "      <td>0.795833</td>\n",
              "      <td>0.670000</td>\n",
              "      <td>4.878300</td>\n",
              "      <td>7.973525</td>\n",
              "      <td>1012.91250</td>\n",
              "    </tr>\n",
              "    <tr>\n",
              "      <th>50%</th>\n",
              "      <td>11.622222</td>\n",
              "      <td>11.622222</td>\n",
              "      <td>0.810000</td>\n",
              "      <td>9.378250</td>\n",
              "      <td>9.982000</td>\n",
              "      <td>1017.47500</td>\n",
              "    </tr>\n",
              "    <tr>\n",
              "      <th>75%</th>\n",
              "      <td>17.908333</td>\n",
              "      <td>17.908333</td>\n",
              "      <td>0.920000</td>\n",
              "      <td>13.821850</td>\n",
              "      <td>11.270000</td>\n",
              "      <td>1022.61500</td>\n",
              "    </tr>\n",
              "    <tr>\n",
              "      <th>max</th>\n",
              "      <td>32.877778</td>\n",
              "      <td>33.566667</td>\n",
              "      <td>1.000000</td>\n",
              "      <td>45.933300</td>\n",
              "      <td>16.051700</td>\n",
              "      <td>1042.83000</td>\n",
              "    </tr>\n",
              "  </tbody>\n",
              "</table>\n",
              "</div>"
            ],
            "text/plain": [
              "       Temperature (C)  ...  Pressure (millibars)\n",
              "count       998.000000  ...             998.00000\n",
              "mean         10.978084  ...             999.05508\n",
              "std           9.367005  ...             139.47797\n",
              "min         -14.022222  ...               0.00000\n",
              "25%           2.800000  ...            1012.91250\n",
              "50%          11.622222  ...            1017.47500\n",
              "75%          17.908333  ...            1022.61500\n",
              "max          32.877778  ...            1042.83000\n",
              "\n",
              "[8 rows x 6 columns]"
            ]
          },
          "metadata": {
            "tags": []
          },
          "execution_count": 7
        }
      ]
    },
    {
      "cell_type": "code",
      "metadata": {
        "id": "rAAD4AfAHWZ_",
        "outputId": "a2750540-59cf-4644-8d1c-288c0d7ce41b",
        "colab": {
          "base_uri": "https://localhost:8080/",
          "height": 136
        }
      },
      "source": [
        "train.count()"
      ],
      "execution_count": null,
      "outputs": [
        {
          "output_type": "execute_result",
          "data": {
            "text/plain": [
              "Temperature (C)             998\n",
              "Apparent Temperature (C)    998\n",
              "Humidity                    998\n",
              "Wind Speed (km/h)           998\n",
              "Visibility (km)             998\n",
              "Pressure (millibars)        998\n",
              "dtype: int64"
            ]
          },
          "metadata": {
            "tags": []
          },
          "execution_count": 8
        }
      ]
    },
    {
      "cell_type": "markdown",
      "metadata": {
        "id": "HD9mMF9RJ4-c"
      },
      "source": [
        "## Análise Exploratória dos dados"
      ]
    },
    {
      "cell_type": "markdown",
      "metadata": {
        "id": "nJt_7IkYMlsb"
      },
      "source": [
        "#### Qual a correlação entre as variáveis?"
      ]
    },
    {
      "cell_type": "code",
      "metadata": {
        "id": "QOSz8Gm4MjpQ",
        "outputId": "ed5e56b6-3126-47f1-fe95-0c7852b7afde",
        "colab": {
          "base_uri": "https://localhost:8080/",
          "height": 268
        }
      },
      "source": [
        "df_corr_pearson = pd.DataFrame (train.corr(method ='pearson')['Temperature (C)'])\n",
        "df_corr_pearson.sort_values('Temperature (C)',ascending=False)"
      ],
      "execution_count": null,
      "outputs": [
        {
          "output_type": "execute_result",
          "data": {
            "text/html": [
              "<div>\n",
              "<style scoped>\n",
              "    .dataframe tbody tr th:only-of-type {\n",
              "        vertical-align: middle;\n",
              "    }\n",
              "\n",
              "    .dataframe tbody tr th {\n",
              "        vertical-align: top;\n",
              "    }\n",
              "\n",
              "    .dataframe thead th {\n",
              "        text-align: right;\n",
              "    }\n",
              "</style>\n",
              "<table border=\"1\" class=\"dataframe\">\n",
              "  <thead>\n",
              "    <tr style=\"text-align: right;\">\n",
              "      <th></th>\n",
              "      <th>Temperature (C)</th>\n",
              "    </tr>\n",
              "  </thead>\n",
              "  <tbody>\n",
              "    <tr>\n",
              "      <th>Temperature (C)</th>\n",
              "      <td>1.000000</td>\n",
              "    </tr>\n",
              "    <tr>\n",
              "      <th>Apparent Temperature (C)</th>\n",
              "      <td>0.992713</td>\n",
              "    </tr>\n",
              "    <tr>\n",
              "      <th>Visibility (km)</th>\n",
              "      <td>0.393216</td>\n",
              "    </tr>\n",
              "    <tr>\n",
              "      <th>Wind Speed (km/h)</th>\n",
              "      <td>0.007562</td>\n",
              "    </tr>\n",
              "    <tr>\n",
              "      <th>Pressure (millibars)</th>\n",
              "      <td>-0.084675</td>\n",
              "    </tr>\n",
              "    <tr>\n",
              "      <th>Humidity</th>\n",
              "      <td>-0.546905</td>\n",
              "    </tr>\n",
              "  </tbody>\n",
              "</table>\n",
              "</div>"
            ],
            "text/plain": [
              "                          Temperature (C)\n",
              "Temperature (C)                  1.000000\n",
              "Apparent Temperature (C)         0.992713\n",
              "Visibility (km)                  0.393216\n",
              "Wind Speed (km/h)                0.007562\n",
              "Pressure (millibars)            -0.084675\n",
              "Humidity                        -0.546905"
            ]
          },
          "metadata": {
            "tags": []
          },
          "execution_count": 9
        }
      ]
    },
    {
      "cell_type": "code",
      "metadata": {
        "id": "w8k6QbW4PHMc",
        "outputId": "4a07b88b-3478-4753-dec8-ac44a1c5ebe0",
        "colab": {
          "base_uri": "https://localhost:8080/",
          "height": 763
        }
      },
      "source": [
        "sns.pairplot(train[['Apparent Temperature (C)','Temperature (C)', 'Humidity','Visibility (km)' ]])"
      ],
      "execution_count": null,
      "outputs": [
        {
          "output_type": "execute_result",
          "data": {
            "text/plain": [
              "<seaborn.axisgrid.PairGrid at 0x7f8495917048>"
            ]
          },
          "metadata": {
            "tags": []
          },
          "execution_count": 392
        },
        {
          "output_type": "display_data",
          "data": {
            "image/png": "[encoded data removed]",
            "text/plain": [
              "<Figure size 720x720 with 20 Axes>"
            ]
          },
          "metadata": {
            "tags": [],
            "needs_background": "light"
          }
        }
      ]
    },
    {
      "cell_type": "markdown",
      "metadata": {
        "id": "j3L9pH01NFid"
      },
      "source": [
        "Humidade pode estar relaciona fortemente a temperatura"
      ]
    },
    {
      "cell_type": "code",
      "metadata": {
        "id": "JtsUnC2QMva0"
      },
      "source": [
        ""
      ],
      "execution_count": null,
      "outputs": []
    },
    {
      "cell_type": "markdown",
      "metadata": {
        "id": "IQx_B49fJxRV"
      },
      "source": [
        "# Seleção de variáveis"
      ]
    },
    {
      "cell_type": "code",
      "metadata": {
        "id": "9R_LzoxIHaY9",
        "outputId": "530c916c-c200-4d5b-e981-2cb7ce8d3178",
        "colab": {
          "base_uri": "https://localhost:8080/",
          "height": 268
        }
      },
      "source": [
        "df_corr_pearson = pd.DataFrame (train.corr(method ='pearson')['Temperature (C)'])\n",
        "df_corr_pearson.sort_values('Temperature (C)',ascending=False)"
      ],
      "execution_count": null,
      "outputs": [
        {
          "output_type": "execute_result",
          "data": {
            "text/html": [
              "<div>\n",
              "<style scoped>\n",
              "    .dataframe tbody tr th:only-of-type {\n",
              "        vertical-align: middle;\n",
              "    }\n",
              "\n",
              "    .dataframe tbody tr th {\n",
              "        vertical-align: top;\n",
              "    }\n",
              "\n",
              "    .dataframe thead th {\n",
              "        text-align: right;\n",
              "    }\n",
              "</style>\n",
              "<table border=\"1\" class=\"dataframe\">\n",
              "  <thead>\n",
              "    <tr style=\"text-align: right;\">\n",
              "      <th></th>\n",
              "      <th>Temperature (C)</th>\n",
              "    </tr>\n",
              "  </thead>\n",
              "  <tbody>\n",
              "    <tr>\n",
              "      <th>Temperature (C)</th>\n",
              "      <td>1.000000</td>\n",
              "    </tr>\n",
              "    <tr>\n",
              "      <th>Apparent Temperature (C)</th>\n",
              "      <td>0.992713</td>\n",
              "    </tr>\n",
              "    <tr>\n",
              "      <th>Visibility (km)</th>\n",
              "      <td>0.393216</td>\n",
              "    </tr>\n",
              "    <tr>\n",
              "      <th>Wind Speed (km/h)</th>\n",
              "      <td>0.007562</td>\n",
              "    </tr>\n",
              "    <tr>\n",
              "      <th>Pressure (millibars)</th>\n",
              "      <td>-0.084675</td>\n",
              "    </tr>\n",
              "    <tr>\n",
              "      <th>Humidity</th>\n",
              "      <td>-0.546905</td>\n",
              "    </tr>\n",
              "  </tbody>\n",
              "</table>\n",
              "</div>"
            ],
            "text/plain": [
              "                          Temperature (C)\n",
              "Temperature (C)                  1.000000\n",
              "Apparent Temperature (C)         0.992713\n",
              "Visibility (km)                  0.393216\n",
              "Wind Speed (km/h)                0.007562\n",
              "Pressure (millibars)            -0.084675\n",
              "Humidity                        -0.546905"
            ]
          },
          "metadata": {
            "tags": []
          },
          "execution_count": 10
        }
      ]
    },
    {
      "cell_type": "markdown",
      "metadata": {
        "id": "5KoZ9ifFGYn3"
      },
      "source": [
        "# Pre Processamento"
      ]
    },
    {
      "cell_type": "code",
      "metadata": {
        "id": "p-veJHoaIU5y"
      },
      "source": [
        "feat_train = train[['Apparent Temperature (C)','Visibility (km)','Humidity']]"
      ],
      "execution_count": null,
      "outputs": []
    },
    {
      "cell_type": "code",
      "metadata": {
        "id": "zepalgbFIwTb",
        "outputId": "357dbac7-06b0-4a23-e377-e960a7397c7b",
        "colab": {
          "base_uri": "https://localhost:8080/",
          "height": 257
        }
      },
      "source": [
        "feat_train.head()"
      ],
      "execution_count": null,
      "outputs": [
        {
          "output_type": "execute_result",
          "data": {
            "text/html": [
              "<div>\n",
              "<style scoped>\n",
              "    .dataframe tbody tr th:only-of-type {\n",
              "        vertical-align: middle;\n",
              "    }\n",
              "\n",
              "    .dataframe tbody tr th {\n",
              "        vertical-align: top;\n",
              "    }\n",
              "\n",
              "    .dataframe thead th {\n",
              "        text-align: right;\n",
              "    }\n",
              "</style>\n",
              "<table border=\"1\" class=\"dataframe\">\n",
              "  <thead>\n",
              "    <tr style=\"text-align: right;\">\n",
              "      <th></th>\n",
              "      <th>Apparent Temperature (C)</th>\n",
              "      <th>Visibility (km)</th>\n",
              "      <th>Humidity</th>\n",
              "    </tr>\n",
              "  </thead>\n",
              "  <tbody>\n",
              "    <tr>\n",
              "      <th>0</th>\n",
              "      <td>19.400000</td>\n",
              "      <td>14.7315</td>\n",
              "      <td>0.93</td>\n",
              "    </tr>\n",
              "    <tr>\n",
              "      <th>1</th>\n",
              "      <td>3.122222</td>\n",
              "      <td>5.8926</td>\n",
              "      <td>1.00</td>\n",
              "    </tr>\n",
              "    <tr>\n",
              "      <th>2</th>\n",
              "      <td>22.661111</td>\n",
              "      <td>16.0517</td>\n",
              "      <td>0.38</td>\n",
              "    </tr>\n",
              "    <tr>\n",
              "      <th>3</th>\n",
              "      <td>17.044444</td>\n",
              "      <td>14.9569</td>\n",
              "      <td>0.81</td>\n",
              "    </tr>\n",
              "    <tr>\n",
              "      <th>4</th>\n",
              "      <td>-4.494444</td>\n",
              "      <td>15.8263</td>\n",
              "      <td>0.56</td>\n",
              "    </tr>\n",
              "  </tbody>\n",
              "</table>\n",
              "</div>"
            ],
            "text/plain": [
              "   Apparent Temperature (C)  Visibility (km)  Humidity\n",
              "0                 19.400000          14.7315      0.93\n",
              "1                  3.122222           5.8926      1.00\n",
              "2                 22.661111          16.0517      0.38\n",
              "3                 17.044444          14.9569      0.81\n",
              "4                 -4.494444          15.8263      0.56"
            ]
          },
          "metadata": {
            "tags": []
          },
          "execution_count": 14
        }
      ]
    },
    {
      "cell_type": "markdown",
      "metadata": {
        "id": "dbjdwwpOH-bR"
      },
      "source": [
        "# Criação do modelo"
      ]
    },
    {
      "cell_type": "code",
      "metadata": {
        "id": "TzBlUPVVIBPI"
      },
      "source": [
        "#reg_ols = LinearRegression() 1.7\n",
        " \n",
        "from sklearn.ensemble import RandomForestRegressor\n",
        "reg_ols = RandomForestRegressor()"
      ],
      "execution_count": null,
      "outputs": []
    },
    {
      "cell_type": "markdown",
      "metadata": {
        "id": "VHQUon6aIErK"
      },
      "source": [
        "Divisão da base de treino"
      ]
    },
    {
      "cell_type": "code",
      "metadata": {
        "id": "S3g3dWVWI0a1"
      },
      "source": [
        "X_train, X_valid, y_train, y_valid = train_test_split(feat_train, train['Temperature (C)'], test_size=0.30, random_state=42)"
      ],
      "execution_count": null,
      "outputs": []
    },
    {
      "cell_type": "markdown",
      "metadata": {
        "id": "LbfC-v0mIIBZ"
      },
      "source": [
        "Treinamento do modelo"
      ]
    },
    {
      "cell_type": "code",
      "metadata": {
        "id": "Ijh-_7WEI4Xe",
        "outputId": "df615610-63ec-41ed-bb8e-2e462cea3d2e",
        "colab": {
          "base_uri": "https://localhost:8080/",
          "height": 156
        }
      },
      "source": [
        "#treinando o model\n",
        "reg_ols.fit(X_train, y_train)"
      ],
      "execution_count": null,
      "outputs": [
        {
          "output_type": "execute_result",
          "data": {
            "text/plain": [
              "RandomForestRegressor(bootstrap=True, ccp_alpha=0.0, criterion='mse',\n",
              "                      max_depth=None, max_features='auto', max_leaf_nodes=None,\n",
              "                      max_samples=None, min_impurity_decrease=0.0,\n",
              "                      min_impurity_split=None, min_samples_leaf=1,\n",
              "                      min_samples_split=2, min_weight_fraction_leaf=0.0,\n",
              "                      n_estimators=100, n_jobs=None, oob_score=False,\n",
              "                      random_state=None, verbose=0, warm_start=False)"
            ]
          },
          "metadata": {
            "tags": []
          },
          "execution_count": 18
        }
      ]
    },
    {
      "cell_type": "markdown",
      "metadata": {
        "id": "MsrfotvPIO9y"
      },
      "source": [
        "Salvando predições dos dados de validação"
      ]
    },
    {
      "cell_type": "code",
      "metadata": {
        "id": "i-6D-BSlIVRy"
      },
      "source": [
        "#Coeficientes\n",
        "#print(\"Coeficientes: {}\".format(reg_ols.coef_))\n",
        "#print(\"Intercept: {}\".format(reg_ols.intercept_))\n",
        " \n",
        "#salvando nossas predicoes\n",
        "preds_ols_sklearn = reg_ols.predict(X_valid)"
      ],
      "execution_count": null,
      "outputs": []
    },
    {
      "cell_type": "markdown",
      "metadata": {
        "id": "Ph6kzmRXIbJK"
      },
      "source": [
        "## Avaliando o modelo"
      ]
    },
    {
      "cell_type": "markdown",
      "metadata": {
        "id": "HlMpheHoIiBx"
      },
      "source": [
        "### Resultado"
      ]
    },
    {
      "cell_type": "code",
      "metadata": {
        "id": "sUGRGhJ9IfRa",
        "outputId": "708edb6f-dea7-43e5-d608-e0e37a98c4fd",
        "colab": {
          "base_uri": "https://localhost:8080/",
          "height": 54
        }
      },
      "source": [
        "#Avaliando o modelo (R^2)\n",
        "print(\"R2: {}\".format(reg_ols.score(X_valid, y_valid)))\n",
        " \n",
        "from sklearn.metrics import mean_squared_error\n",
        " \n",
        "mse = mean_squared_error(y_valid, preds_ols_sklearn)\n",
        " \n",
        "print(mse)"
      ],
      "execution_count": null,
      "outputs": [
        {
          "output_type": "stream",
          "text": [
            "R2: 0.9906311729645012\n",
            "0.7709376386111098\n"
          ],
          "name": "stdout"
        }
      ]
    },
    {
      "cell_type": "markdown",
      "metadata": {
        "id": "aLEB31oKIpFB"
      },
      "source": [
        "### Analisando dados do resultado da predição dos dados de validação"
      ]
    },
    {
      "cell_type": "code",
      "metadata": {
        "id": "at2-c2bLH2ro",
        "outputId": "42eaebaf-00d9-47c5-b041-e361f8544d26",
        "colab": {
          "base_uri": "https://localhost:8080/",
          "height": 444
        }
      },
      "source": [
        "print(y_valid.shape)\n",
        "print(preds_ols_sklearn.shape)\n",
        " \n",
        "analise_resultado = pd.DataFrame()\n",
        "analise_resultado['verdadeiro'] = y_valid \n",
        "analise_resultado['predito']    = preds_ols_sklearn\n",
        "analise_resultado['diff']       = y_valid-preds_ols_sklearn\n",
        " \n",
        "analise_resultado"
      ],
      "execution_count": null,
      "outputs": [
        {
          "output_type": "stream",
          "text": [
            "(300,)\n",
            "(300,)\n"
          ],
          "name": "stdout"
        },
        {
          "output_type": "execute_result",
          "data": {
            "text/html": [
              "<div>\n",
              "<style scoped>\n",
              "    .dataframe tbody tr th:only-of-type {\n",
              "        vertical-align: middle;\n",
              "    }\n",
              "\n",
              "    .dataframe tbody tr th {\n",
              "        vertical-align: top;\n",
              "    }\n",
              "\n",
              "    .dataframe thead th {\n",
              "        text-align: right;\n",
              "    }\n",
              "</style>\n",
              "<table border=\"1\" class=\"dataframe\">\n",
              "  <thead>\n",
              "    <tr style=\"text-align: right;\">\n",
              "      <th></th>\n",
              "      <th>verdadeiro</th>\n",
              "      <th>predito</th>\n",
              "      <th>diff</th>\n",
              "    </tr>\n",
              "  </thead>\n",
              "  <tbody>\n",
              "    <tr>\n",
              "      <th>453</th>\n",
              "      <td>12.733333</td>\n",
              "      <td>12.709333</td>\n",
              "      <td>0.024000</td>\n",
              "    </tr>\n",
              "    <tr>\n",
              "      <th>792</th>\n",
              "      <td>1.061111</td>\n",
              "      <td>0.217167</td>\n",
              "      <td>0.843944</td>\n",
              "    </tr>\n",
              "    <tr>\n",
              "      <th>209</th>\n",
              "      <td>8.861111</td>\n",
              "      <td>6.151056</td>\n",
              "      <td>2.710056</td>\n",
              "    </tr>\n",
              "    <tr>\n",
              "      <th>309</th>\n",
              "      <td>6.038889</td>\n",
              "      <td>7.815222</td>\n",
              "      <td>-1.776333</td>\n",
              "    </tr>\n",
              "    <tr>\n",
              "      <th>739</th>\n",
              "      <td>2.155556</td>\n",
              "      <td>2.105556</td>\n",
              "      <td>0.050000</td>\n",
              "    </tr>\n",
              "    <tr>\n",
              "      <th>...</th>\n",
              "      <td>...</td>\n",
              "      <td>...</td>\n",
              "      <td>...</td>\n",
              "    </tr>\n",
              "    <tr>\n",
              "      <th>314</th>\n",
              "      <td>15.072222</td>\n",
              "      <td>15.045111</td>\n",
              "      <td>0.027111</td>\n",
              "    </tr>\n",
              "    <tr>\n",
              "      <th>404</th>\n",
              "      <td>9.227778</td>\n",
              "      <td>9.146333</td>\n",
              "      <td>0.081444</td>\n",
              "    </tr>\n",
              "    <tr>\n",
              "      <th>7</th>\n",
              "      <td>19.105556</td>\n",
              "      <td>19.049500</td>\n",
              "      <td>0.056056</td>\n",
              "    </tr>\n",
              "    <tr>\n",
              "      <th>155</th>\n",
              "      <td>10.911111</td>\n",
              "      <td>10.819278</td>\n",
              "      <td>0.091833</td>\n",
              "    </tr>\n",
              "    <tr>\n",
              "      <th>808</th>\n",
              "      <td>14.861111</td>\n",
              "      <td>14.872333</td>\n",
              "      <td>-0.011222</td>\n",
              "    </tr>\n",
              "  </tbody>\n",
              "</table>\n",
              "<p>300 rows × 3 columns</p>\n",
              "</div>"
            ],
            "text/plain": [
              "     verdadeiro    predito      diff\n",
              "453   12.733333  12.709333  0.024000\n",
              "792    1.061111   0.217167  0.843944\n",
              "209    8.861111   6.151056  2.710056\n",
              "309    6.038889   7.815222 -1.776333\n",
              "739    2.155556   2.105556  0.050000\n",
              "..          ...        ...       ...\n",
              "314   15.072222  15.045111  0.027111\n",
              "404    9.227778   9.146333  0.081444\n",
              "7     19.105556  19.049500  0.056056\n",
              "155   10.911111  10.819278  0.091833\n",
              "808   14.861111  14.872333 -0.011222\n",
              "\n",
              "[300 rows x 3 columns]"
            ]
          },
          "metadata": {
            "tags": []
          },
          "execution_count": 401
        }
      ]
    },
    {
      "cell_type": "markdown",
      "metadata": {
        "id": "cU1mU8gEf00v"
      },
      "source": [
        "Tunning"
      ]
    },
    {
      "cell_type": "code",
      "metadata": {
        "id": "79CRst2Sf0CB",
        "outputId": "66d9809c-3fd8-4f77-fc19-6776333f9448",
        "colab": {
          "base_uri": "https://localhost:8080/",
          "height": 35
        }
      },
      "source": [
        "from sklearn.model_selection import GridSearchCV\n",
        "param_grid = { \n",
        "    'n_estimators': [50, 2000],\n",
        "    'max_features': ['auto', 'sqrt', 'log2'],\n",
        "    'max_depth' : [8,12],\n",
        "}\n",
        "CV_rfc = GridSearchCV(estimator=reg_ols, param_grid=param_grid, scoring = 'neg_mean_absolute_error', cv= 5)\n",
        "CV_rfc.fit(X_train, y_train)\n",
        "CV_rfc.best_params_"
      ],
      "execution_count": null,
      "outputs": [
        {
          "output_type": "execute_result",
          "data": {
            "text/plain": [
              "{'max_depth': 12, 'max_features': 'auto', 'n_estimators': 2000}"
            ]
          },
          "metadata": {
            "tags": []
          },
          "execution_count": 402
        }
      ]
    },
    {
      "cell_type": "code",
      "metadata": {
        "id": "o1cJKbN1rfv5",
        "outputId": "5fc8b8cb-923e-4197-ef7a-40ff78c8665a",
        "colab": {
          "base_uri": "https://localhost:8080/",
          "height": 408
        }
      },
      "source": [
        "pd.DataFrame(CV_rfc.cv_results_)[['params','rank_test_score','mean_test_score']]"
      ],
      "execution_count": null,
      "outputs": [
        {
          "output_type": "execute_result",
          "data": {
            "text/html": [
              "<div>\n",
              "<style scoped>\n",
              "    .dataframe tbody tr th:only-of-type {\n",
              "        vertical-align: middle;\n",
              "    }\n",
              "\n",
              "    .dataframe tbody tr th {\n",
              "        vertical-align: top;\n",
              "    }\n",
              "\n",
              "    .dataframe thead th {\n",
              "        text-align: right;\n",
              "    }\n",
              "</style>\n",
              "<table border=\"1\" class=\"dataframe\">\n",
              "  <thead>\n",
              "    <tr style=\"text-align: right;\">\n",
              "      <th></th>\n",
              "      <th>params</th>\n",
              "      <th>rank_test_score</th>\n",
              "      <th>mean_test_score</th>\n",
              "    </tr>\n",
              "  </thead>\n",
              "  <tbody>\n",
              "    <tr>\n",
              "      <th>0</th>\n",
              "      <td>{'max_depth': 8, 'max_features': 'auto', 'n_es...</td>\n",
              "      <td>2</td>\n",
              "      <td>-0.560755</td>\n",
              "    </tr>\n",
              "    <tr>\n",
              "      <th>1</th>\n",
              "      <td>{'max_depth': 8, 'max_features': 'auto', 'n_es...</td>\n",
              "      <td>3</td>\n",
              "      <td>-0.564044</td>\n",
              "    </tr>\n",
              "    <tr>\n",
              "      <th>2</th>\n",
              "      <td>{'max_depth': 8, 'max_features': 'sqrt', 'n_es...</td>\n",
              "      <td>11</td>\n",
              "      <td>-1.216511</td>\n",
              "    </tr>\n",
              "    <tr>\n",
              "      <th>3</th>\n",
              "      <td>{'max_depth': 8, 'max_features': 'sqrt', 'n_es...</td>\n",
              "      <td>9</td>\n",
              "      <td>-1.196112</td>\n",
              "    </tr>\n",
              "    <tr>\n",
              "      <th>4</th>\n",
              "      <td>{'max_depth': 8, 'max_features': 'log2', 'n_es...</td>\n",
              "      <td>12</td>\n",
              "      <td>-1.236716</td>\n",
              "    </tr>\n",
              "    <tr>\n",
              "      <th>5</th>\n",
              "      <td>{'max_depth': 8, 'max_features': 'log2', 'n_es...</td>\n",
              "      <td>10</td>\n",
              "      <td>-1.206744</td>\n",
              "    </tr>\n",
              "    <tr>\n",
              "      <th>6</th>\n",
              "      <td>{'max_depth': 12, 'max_features': 'auto', 'n_e...</td>\n",
              "      <td>4</td>\n",
              "      <td>-0.567272</td>\n",
              "    </tr>\n",
              "    <tr>\n",
              "      <th>7</th>\n",
              "      <td>{'max_depth': 12, 'max_features': 'auto', 'n_e...</td>\n",
              "      <td>1</td>\n",
              "      <td>-0.560164</td>\n",
              "    </tr>\n",
              "    <tr>\n",
              "      <th>8</th>\n",
              "      <td>{'max_depth': 12, 'max_features': 'sqrt', 'n_e...</td>\n",
              "      <td>7</td>\n",
              "      <td>-1.077478</td>\n",
              "    </tr>\n",
              "    <tr>\n",
              "      <th>9</th>\n",
              "      <td>{'max_depth': 12, 'max_features': 'sqrt', 'n_e...</td>\n",
              "      <td>5</td>\n",
              "      <td>-1.038231</td>\n",
              "    </tr>\n",
              "    <tr>\n",
              "      <th>10</th>\n",
              "      <td>{'max_depth': 12, 'max_features': 'log2', 'n_e...</td>\n",
              "      <td>8</td>\n",
              "      <td>-1.141518</td>\n",
              "    </tr>\n",
              "    <tr>\n",
              "      <th>11</th>\n",
              "      <td>{'max_depth': 12, 'max_features': 'log2', 'n_e...</td>\n",
              "      <td>6</td>\n",
              "      <td>-1.047045</td>\n",
              "    </tr>\n",
              "  </tbody>\n",
              "</table>\n",
              "</div>"
            ],
            "text/plain": [
              "                                               params  ...  mean_test_score\n",
              "0   {'max_depth': 8, 'max_features': 'auto', 'n_es...  ...        -0.560755\n",
              "1   {'max_depth': 8, 'max_features': 'auto', 'n_es...  ...        -0.564044\n",
              "2   {'max_depth': 8, 'max_features': 'sqrt', 'n_es...  ...        -1.216511\n",
              "3   {'max_depth': 8, 'max_features': 'sqrt', 'n_es...  ...        -1.196112\n",
              "4   {'max_depth': 8, 'max_features': 'log2', 'n_es...  ...        -1.236716\n",
              "5   {'max_depth': 8, 'max_features': 'log2', 'n_es...  ...        -1.206744\n",
              "6   {'max_depth': 12, 'max_features': 'auto', 'n_e...  ...        -0.567272\n",
              "7   {'max_depth': 12, 'max_features': 'auto', 'n_e...  ...        -0.560164\n",
              "8   {'max_depth': 12, 'max_features': 'sqrt', 'n_e...  ...        -1.077478\n",
              "9   {'max_depth': 12, 'max_features': 'sqrt', 'n_e...  ...        -1.038231\n",
              "10  {'max_depth': 12, 'max_features': 'log2', 'n_e...  ...        -1.141518\n",
              "11  {'max_depth': 12, 'max_features': 'log2', 'n_e...  ...        -1.047045\n",
              "\n",
              "[12 rows x 3 columns]"
            ]
          },
          "metadata": {
            "tags": []
          },
          "execution_count": 403
        }
      ]
    },
    {
      "cell_type": "code",
      "metadata": {
        "id": "htgkfk7fgg-T"
      },
      "source": [
        "#novo modelo com os melhores parametros\n",
        "tuned_rf = RandomForestRegressor(max_depth= 12, max_features='auto', n_estimators= 2000)\n",
        "tuned_rf.fit(X_train, y_train)\n",
        "pred_tuned_rf = tuned_rf.predict(X_valid)"
      ],
      "execution_count": null,
      "outputs": []
    },
    {
      "cell_type": "code",
      "metadata": {
        "id": "55YY6ojDiarf",
        "outputId": "a4f08e1a-7635-4f72-cad0-cb3f61d5281c",
        "colab": {
          "base_uri": "https://localhost:8080/",
          "height": 51
        }
      },
      "source": [
        "#Avaliando o modelo (R^2)\n",
        "print(\"R2 : {}\".format(tuned_rf.score(X_valid, y_valid)))\n",
        " \n",
        "from sklearn.metrics import mean_squared_error\n",
        " \n",
        "mse = mean_squared_error(y_valid, pred_tuned_rf)\n",
        " \n",
        "print(\"MSE : \",  mse)"
      ],
      "execution_count": null,
      "outputs": [
        {
          "output_type": "stream",
          "text": [
            "R2 : 0.9907842695205346\n",
            "MSE :  0.7583397011168427\n"
          ],
          "name": "stdout"
        }
      ]
    },
    {
      "cell_type": "markdown",
      "metadata": {
        "id": "AmDVnTF5EpbJ"
      },
      "source": [
        "# Submissão\n",
        "Nessa seção será feito o ajuste no arquivo para submissão do arquivos com os resultadados previstos do arquivo de teste"
      ]
    },
    {
      "cell_type": "markdown",
      "metadata": {
        "id": "oQWV2TE3Ejp5"
      },
      "source": [
        "#### Predição do Teste"
      ]
    },
    {
      "cell_type": "code",
      "metadata": {
        "id": "7QLF8GbAZ9kB"
      },
      "source": [
        "test_feat = test[['Apparent Temperature (C)','Visibility (km)','Humidity']]\n",
        " \n",
        "y_pred_test = tuned_rf.predict(test_feat)"
      ],
      "execution_count": null,
      "outputs": []
    },
    {
      "cell_type": "markdown",
      "metadata": {
        "id": "c2euqXFREdRa"
      },
      "source": [
        "#Exportação do Arquivo\n"
      ]
    },
    {
      "cell_type": "code",
      "metadata": {
        "id": "vlfFJ49nZW7a"
      },
      "source": [
        "df_resposta = pd.DataFrame()\n",
        "df_resposta['target'] = y_pred_test"
      ],
      "execution_count": null,
      "outputs": []
    },
    {
      "cell_type": "code",
      "metadata": {
        "id": "giV-oEAMZxiU",
        "outputId": "e312a526-6841-4827-dcdf-84f1862436e8",
        "colab": {
          "base_uri": "https://localhost:8080/",
          "height": 17
        }
      },
      "source": [
        "from google.colab import files\n",
        "df_resposta.to_csv('CLIMA-FINAL.csv', index=False) \n",
        "files.download('CLIMA-FINAL.csv')"
      ],
      "execution_count": null,
      "outputs": [
        {
          "output_type": "display_data",
          "data": {
            "application/javascript": [
              "\n",
              "    async function download(id, filename, size) {\n",
              "      if (!google.colab.kernel.accessAllowed) {\n",
              "        return;\n",
              "      }\n",
              "      const div = document.createElement('div');\n",
              "      const label = document.createElement('label');\n",
              "      label.textContent = `Downloading \"${filename}\": `;\n",
              "      div.appendChild(label);\n",
              "      const progress = document.createElement('progress');\n",
              "      progress.max = size;\n",
              "      div.appendChild(progress);\n",
              "      document.body.appendChild(div);\n",
              "\n",
              "      const buffers = [];\n",
              "      let downloaded = 0;\n",
              "\n",
              "      const channel = await google.colab.kernel.comms.open(id);\n",
              "      // Send a message to notify the kernel that we're ready.\n",
              "      channel.send({})\n",
              "\n",
              "      for await (const message of channel.messages) {\n",
              "        // Send a message to notify the kernel that we're ready.\n",
              "        channel.send({})\n",
              "        if (message.buffers) {\n",
              "          for (const buffer of message.buffers) {\n",
              "            buffers.push(buffer);\n",
              "            downloaded += buffer.byteLength;\n",
              "            progress.value = downloaded;\n",
              "          }\n",
              "        }\n",
              "      }\n",
              "      const blob = new Blob(buffers, {type: 'application/binary'});\n",
              "      const a = document.createElement('a');\n",
              "      a.href = window.URL.createObjectURL(blob);\n",
              "      a.download = filename;\n",
              "      div.appendChild(a);\n",
              "      a.click();\n",
              "      div.remove();\n",
              "    }\n",
              "  "
            ],
            "text/plain": [
              "<IPython.core.display.Javascript object>"
            ]
          },
          "metadata": {
            "tags": []
          }
        },
        {
          "output_type": "display_data",
          "data": {
            "application/javascript": [
              "download(\"download_8087435c-f00f-478c-b8f9-ae859c8347fd\", \"CLIMA-FINAL.csv\", 10063)"
            ],
            "text/plain": [
              "<IPython.core.display.Javascript object>"
            ]
          },
          "metadata": {
            "tags": []
          }
        }
      ]
    }
  ]
}